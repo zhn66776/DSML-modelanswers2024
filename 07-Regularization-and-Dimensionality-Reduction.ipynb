{
 "cells": [
  {
   "cell_type": "markdown",
   "id": "2b6b6bb9",
   "metadata": {},
   "source": [
    "## Exercise 1\n",
    "\n",
    "### LogisticRegression without regularization\n",
    "\n",
    "❓ Rank the features in decreasing order of importance according to a simple **non-regularized** Logistic Regression\n",
    "\n",
    "- Careful, `LogisticRegression` is penalized by default. Check the doc for the appropriate 'penalty' hyperparameter!\n",
    "- Increase `max_iter` to a larger number until the model converges (>1000)\n",
    "- Train the model on X and y, then extract the coefficients of the trained model\n",
    "    - Remember that you can access the coefficients of the regression by calling `.coef_` on your trained model. \n",
    "- **Hint**: it might help to put the coefficient of the model in a dataframe with column names from `X` to be able to interpret them. Also check the `transpose()` and `sort_values()` pandas functions"
   ]
  },
  {
   "cell_type": "code",
   "execution_count": 1,
   "id": "d93e5ff7",
   "metadata": {},
   "outputs": [
    {
     "ename": "ValueError",
     "evalue": "Logistic Regression supports only penalties in ['l1', 'l2', 'elasticnet', 'none'], got None.",
     "output_type": "error",
     "traceback": [
      "\u001b[1;31m---------------------------------------------------------------------------\u001b[0m",
      "\u001b[1;31mValueError\u001b[0m                                Traceback (most recent call last)",
      "\u001b[1;32m<ipython-input-1-e089fad29b73>\u001b[0m in \u001b[0;36m<module>\u001b[1;34m\u001b[0m\n\u001b[0;32m     15\u001b[0m \u001b[1;33m\u001b[0m\u001b[0m\n\u001b[0;32m     16\u001b[0m \u001b[1;31m# Fit the model to the dataset\u001b[0m\u001b[1;33m\u001b[0m\u001b[1;33m\u001b[0m\u001b[1;33m\u001b[0m\u001b[0m\n\u001b[1;32m---> 17\u001b[1;33m \u001b[0mlogreg\u001b[0m\u001b[1;33m.\u001b[0m\u001b[0mfit\u001b[0m\u001b[1;33m(\u001b[0m\u001b[0mX\u001b[0m\u001b[1;33m,\u001b[0m \u001b[0my\u001b[0m\u001b[1;33m)\u001b[0m\u001b[1;33m\u001b[0m\u001b[1;33m\u001b[0m\u001b[0m\n\u001b[0m\u001b[0;32m     18\u001b[0m \u001b[1;33m\u001b[0m\u001b[0m\n\u001b[0;32m     19\u001b[0m \u001b[1;31m# Create a dataframe from the coefficients\u001b[0m\u001b[1;33m\u001b[0m\u001b[1;33m\u001b[0m\u001b[1;33m\u001b[0m\u001b[0m\n",
      "\u001b[1;32md:\\python\\lib\\site-packages\\sklearn\\linear_model\\_logistic.py\u001b[0m in \u001b[0;36mfit\u001b[1;34m(self, X, y, sample_weight)\u001b[0m\n\u001b[0;32m   1304\u001b[0m         \u001b[0mThe\u001b[0m \u001b[0mSAGA\u001b[0m \u001b[0msolver\u001b[0m \u001b[0msupports\u001b[0m \u001b[0mboth\u001b[0m \u001b[0mfloat64\u001b[0m \u001b[1;32mand\u001b[0m \u001b[0mfloat32\u001b[0m \u001b[0mbit\u001b[0m \u001b[0marrays\u001b[0m\u001b[1;33m.\u001b[0m\u001b[1;33m\u001b[0m\u001b[1;33m\u001b[0m\u001b[0m\n\u001b[0;32m   1305\u001b[0m         \"\"\"\n\u001b[1;32m-> 1306\u001b[1;33m         \u001b[0msolver\u001b[0m \u001b[1;33m=\u001b[0m \u001b[0m_check_solver\u001b[0m\u001b[1;33m(\u001b[0m\u001b[0mself\u001b[0m\u001b[1;33m.\u001b[0m\u001b[0msolver\u001b[0m\u001b[1;33m,\u001b[0m \u001b[0mself\u001b[0m\u001b[1;33m.\u001b[0m\u001b[0mpenalty\u001b[0m\u001b[1;33m,\u001b[0m \u001b[0mself\u001b[0m\u001b[1;33m.\u001b[0m\u001b[0mdual\u001b[0m\u001b[1;33m)\u001b[0m\u001b[1;33m\u001b[0m\u001b[1;33m\u001b[0m\u001b[0m\n\u001b[0m\u001b[0;32m   1307\u001b[0m \u001b[1;33m\u001b[0m\u001b[0m\n\u001b[0;32m   1308\u001b[0m         \u001b[1;32mif\u001b[0m \u001b[1;32mnot\u001b[0m \u001b[0misinstance\u001b[0m\u001b[1;33m(\u001b[0m\u001b[0mself\u001b[0m\u001b[1;33m.\u001b[0m\u001b[0mC\u001b[0m\u001b[1;33m,\u001b[0m \u001b[0mnumbers\u001b[0m\u001b[1;33m.\u001b[0m\u001b[0mNumber\u001b[0m\u001b[1;33m)\u001b[0m \u001b[1;32mor\u001b[0m \u001b[0mself\u001b[0m\u001b[1;33m.\u001b[0m\u001b[0mC\u001b[0m \u001b[1;33m<\u001b[0m \u001b[1;36m0\u001b[0m\u001b[1;33m:\u001b[0m\u001b[1;33m\u001b[0m\u001b[1;33m\u001b[0m\u001b[0m\n",
      "\u001b[1;32md:\\python\\lib\\site-packages\\sklearn\\linear_model\\_logistic.py\u001b[0m in \u001b[0;36m_check_solver\u001b[1;34m(solver, penalty, dual)\u001b[0m\n\u001b[0;32m    437\u001b[0m     \u001b[0mall_penalties\u001b[0m \u001b[1;33m=\u001b[0m \u001b[1;33m[\u001b[0m\u001b[1;34m'l1'\u001b[0m\u001b[1;33m,\u001b[0m \u001b[1;34m'l2'\u001b[0m\u001b[1;33m,\u001b[0m \u001b[1;34m'elasticnet'\u001b[0m\u001b[1;33m,\u001b[0m \u001b[1;34m'none'\u001b[0m\u001b[1;33m]\u001b[0m\u001b[1;33m\u001b[0m\u001b[1;33m\u001b[0m\u001b[0m\n\u001b[0;32m    438\u001b[0m     \u001b[1;32mif\u001b[0m \u001b[0mpenalty\u001b[0m \u001b[1;32mnot\u001b[0m \u001b[1;32min\u001b[0m \u001b[0mall_penalties\u001b[0m\u001b[1;33m:\u001b[0m\u001b[1;33m\u001b[0m\u001b[1;33m\u001b[0m\u001b[0m\n\u001b[1;32m--> 439\u001b[1;33m         raise ValueError(\"Logistic Regression supports only penalties in %s,\"\n\u001b[0m\u001b[0;32m    440\u001b[0m                          \" got %s.\" % (all_penalties, penalty))\n\u001b[0;32m    441\u001b[0m \u001b[1;33m\u001b[0m\u001b[0m\n",
      "\u001b[1;31mValueError\u001b[0m: Logistic Regression supports only penalties in ['l1', 'l2', 'elasticnet', 'none'], got None."
     ]
    }
   ],
   "source": [
    "# Your Code here\n",
    "from sklearn.linear_model import LogisticRegression\n",
    "import pandas as pd\n",
    "import numpy as np\n",
    "\n",
    "# Load data\n",
    "data = pd.read_csv(\"Data/biodiversity-prepared.csv\")\n",
    "\n",
    "# Split into X and y\n",
    "X = data.drop(columns=\"RCACScore\")\n",
    "y = data[\"RCACScore\"]\n",
    "\n",
    "# Instantiate LogisticRegression model with the appropriate parameters\n",
    "logreg = LogisticRegression(penalty = None, max_iter = 1000)\n",
    "\n",
    "# Fit the model to the dataset\n",
    "logreg.fit(X, y)\n",
    "\n",
    "# Create a dataframe from the coefficients\n",
    "coefficients = pd.DataFrame(logreg.coef_, columns = X.columns, index = ['Coefficients'])\n",
    "\n",
    "# Sort the data appropriately - remember, it is the MAGNITUDE of the data (regardless of sign) that tells you how \n",
    "# important a feature is\n",
    "coefficients = coefficients.T.sort_values(by = 'Coefficients', key = abs, ascending = False)\n",
    "\n",
    "coefficients.head()"
   ]
  },
  {
   "cell_type": "markdown",
   "id": "ba13f7be",
   "metadata": {},
   "source": [
    "❓How do you interpret, in plain English, the value for the coefficient assigned to `RCACRareSp` ?\n",
    "\n",
    "<details>\n",
    "    <summary>Answer</summary>\n",
    "\n",
    "All things being equal (i.e. if the other variables are the same), the abundance of rare species (`RCACRareSp`) increases the log-odds of the site being classified as important by 35.7 (your coef value). In terms of raw odds, a high `RCACRareSp` increases the odds-ratio of a high score by exp(35.7) = 3.19E15\n",
    "\n",
    "</details>\n",
    "\n",
    "❓ What are the 5 features that have the greatest impact on the classification of a site as a high scoring site? Assign your answer to a variable named `base_most_important`."
   ]
  },
  {
   "cell_type": "code",
   "execution_count": 2,
   "id": "2e6ac166",
   "metadata": {},
   "outputs": [
    {
     "data": {
      "text/plain": [
       "['RCACRareSp', 'in', 'RCACGround', 'ei', 'h']"
      ]
     },
     "execution_count": 2,
     "metadata": {},
     "output_type": "execute_result"
    }
   ],
   "source": [
    "# Extract the index of the 5 rows with the highest coefficients\n",
    "base_most_important = coefficients.head().index.to_list()\n",
    "\n",
    "base_most_important"
   ]
  },
  {
   "cell_type": "markdown",
   "id": "13fc99af",
   "metadata": {},
   "source": [
    "❓ Now cross validate a model (check the `sklearn` `cross_validate` class) with the same parameters as the model above, and save the mean score under a variable named `base_model_score`. I recommend using 5-fold cross validation."
   ]
  },
  {
   "cell_type": "code",
   "execution_count": 3,
   "id": "28f492bc",
   "metadata": {},
   "outputs": [
    {
     "data": {
      "text/plain": [
       "0.8996421548452005"
      ]
     },
     "execution_count": 3,
     "metadata": {},
     "output_type": "execute_result"
    }
   ],
   "source": [
    "from sklearn.model_selection import cross_validate\n",
    "\n",
    "# Run the cross validation with cv = 5\n",
    "# This returns a dictionary\n",
    "score_dict = cross_validate(logreg, X, y, cv = 5)\n",
    "\n",
    "# The 'test_score' key contains an array of test scores, so find the mean of that array to get base_model_score\n",
    "base_model_score = score_dict['test_score'].mean()\n",
    "\n",
    "base_model_score"
   ]
  },
  {
   "cell_type": "markdown",
   "id": "89ac4aec",
   "metadata": {},
   "source": [
    "## Exercise 1.2\n",
    "\n",
    "### Logistic Regression with a L2 penalty\n",
    "\n",
    "Let's use a **Logistic model** whose log-loss has been penalized with an **L2** term to determine out the **most important features** without overfitting.\n",
    "\n",
    "The L2 penalty is the classification problem equivalent to the \"Ridge\" regressor\n",
    "\n",
    "❓ Instantiate a **strongly regularized** `LogisticRegression` and rank its feature importance. By \"strongly regularized\", I am referring to setting the value of the regularization parameter, `C`. The value of `C` is inversely proportional to the strength of the regularization (i.e., smaller values are stronger). \n",
    "- sklearn's values default values are generally good for scaled features; generally, when tuning the value of C, you vary its value by orders of magnitude.\n",
    "- In this case, I recommend a regularization factor of 10% of the default value."
   ]
  },
  {
   "cell_type": "code",
   "execution_count": 4,
   "id": "40ed8d61",
   "metadata": {},
   "outputs": [
    {
     "data": {
      "text/html": [
       "<div>\n",
       "<style scoped>\n",
       "    .dataframe tbody tr th:only-of-type {\n",
       "        vertical-align: middle;\n",
       "    }\n",
       "\n",
       "    .dataframe tbody tr th {\n",
       "        vertical-align: top;\n",
       "    }\n",
       "\n",
       "    .dataframe thead th {\n",
       "        text-align: right;\n",
       "    }\n",
       "</style>\n",
       "<table border=\"1\" class=\"dataframe\">\n",
       "  <thead>\n",
       "    <tr style=\"text-align: right;\">\n",
       "      <th></th>\n",
       "      <th>Coefficients</th>\n",
       "    </tr>\n",
       "  </thead>\n",
       "  <tbody>\n",
       "    <tr>\n",
       "      <th>RCACRareSp</th>\n",
       "      <td>4.271451</td>\n",
       "    </tr>\n",
       "    <tr>\n",
       "      <th>Weeds</th>\n",
       "      <td>1.970955</td>\n",
       "    </tr>\n",
       "    <tr>\n",
       "      <th>RCACRegene</th>\n",
       "      <td>1.402580</td>\n",
       "    </tr>\n",
       "    <tr>\n",
       "      <th>RCACLogs</th>\n",
       "      <td>1.331928</td>\n",
       "    </tr>\n",
       "    <tr>\n",
       "      <th>RCACGrassl</th>\n",
       "      <td>0.641148</td>\n",
       "    </tr>\n",
       "  </tbody>\n",
       "</table>\n",
       "</div>"
      ],
      "text/plain": [
       "            Coefficients\n",
       "RCACRareSp      4.271451\n",
       "Weeds           1.970955\n",
       "RCACRegene      1.402580\n",
       "RCACLogs        1.331928\n",
       "RCACGrassl      0.641148"
      ]
     },
     "execution_count": 4,
     "metadata": {},
     "output_type": "execute_result"
    }
   ],
   "source": [
    "l2_logreg = LogisticRegression(penalty = 'l2', C = 0.1)\n",
    "\n",
    "# Fit the model to the dataset\n",
    "l2_logreg.fit(X, y)\n",
    "\n",
    "# Create a dataframe from the coefficients\n",
    "regularized_coefficients = pd.DataFrame(l2_logreg.coef_, columns = X.columns, index = ['Coefficients'])\n",
    "\n",
    "# Sort the data appropriately - remember, it is the MAGNITUDE of the data (regardless of sign) that tells you how \n",
    "# important a feature is\n",
    "regularized_coefficients = regularized_coefficients.T.sort_values(by = 'Coefficients', key = abs, ascending = False)\n",
    "\n",
    "# You'll notice that the coefficients of the regularized model are much smaller!\n",
    "regularized_coefficients.head()"
   ]
  },
  {
   "cell_type": "markdown",
   "id": "fea30a5a",
   "metadata": {},
   "source": [
    "❓ What are the top 5 features according to LogisticRegression strongly regularized by an L2 penalty? Assign them to a variable named `l2_most_important`. Are these the same features as `base_most_important`?"
   ]
  },
  {
   "cell_type": "code",
   "execution_count": 5,
   "id": "370d3ff8",
   "metadata": {},
   "outputs": [
    {
     "data": {
      "text/plain": [
       "['RCACRareSp', 'Weeds', 'RCACRegene', 'RCACLogs', 'RCACGrassl']"
      ]
     },
     "execution_count": 5,
     "metadata": {},
     "output_type": "execute_result"
    }
   ],
   "source": [
    "# Extract the index of the 5 rows with the highest coefficients\n",
    "l2_most_important = regularized_coefficients.head().index.to_list()\n",
    "\n",
    "l2_most_important"
   ]
  },
  {
   "cell_type": "markdown",
   "id": "c3b03e62",
   "metadata": {},
   "source": [
    "❓ Now cross validate a model with the same parameters as the model above, and save the mean score under a variable named `l2_model_score`. What can you say about the new score compared to the `base_model_score`?"
   ]
  },
  {
   "cell_type": "code",
   "execution_count": 6,
   "id": "7b0fa885",
   "metadata": {},
   "outputs": [
    {
     "data": {
      "text/plain": [
       "0.92159932775415"
      ]
     },
     "execution_count": 6,
     "metadata": {},
     "output_type": "execute_result"
    }
   ],
   "source": [
    "# Run the cross validation with cv = 5\n",
    "# This returns a dictionary\n",
    "score_dict = cross_validate(l2_logreg, X, y, cv = 5)\n",
    "\n",
    "# The 'test_score' key contains an array of test scores, so find the mean of that array to get base_model_score\n",
    "l2_model_score = score_dict['test_score'].mean()\n",
    "\n",
    "l2_model_score"
   ]
  },
  {
   "cell_type": "markdown",
   "id": "39de415d",
   "metadata": {},
   "source": [
    "## Exercise 1.3\n",
    "\n",
    "### Logistic Regression with a L1 penalty\n",
    "\n",
    "This time, we'll use a logistic model whose log-loss has been penalized with a **L1** term to **filter out the less important features**.  \n",
    "\n",
    "This is the \"classification\" equivalent to the **Lasso** regressor\n",
    "\n",
    "❓ Instantiate a **strongly regularized** `LogisticRegression` and rank its feature importance. We suggest that you use the same regularization value as for **L2** to be able to compare your results.\n",
    "\n",
    "**Note**: LogisticRegression's default solver, `lbfgs`, does not work with L1 regularization. You'll have to switch to an appropriate solver to use L1 penalties (look at the documentation and choose an appropriate solver!)"
   ]
  },
  {
   "cell_type": "code",
   "execution_count": 7,
   "id": "eda51fb0",
   "metadata": {},
   "outputs": [
    {
     "data": {
      "text/html": [
       "<div>\n",
       "<style scoped>\n",
       "    .dataframe tbody tr th:only-of-type {\n",
       "        vertical-align: middle;\n",
       "    }\n",
       "\n",
       "    .dataframe tbody tr th {\n",
       "        vertical-align: top;\n",
       "    }\n",
       "\n",
       "    .dataframe thead th {\n",
       "        text-align: right;\n",
       "    }\n",
       "</style>\n",
       "<table border=\"1\" class=\"dataframe\">\n",
       "  <thead>\n",
       "    <tr style=\"text-align: right;\">\n",
       "      <th></th>\n",
       "      <th>Coefficients</th>\n",
       "    </tr>\n",
       "  </thead>\n",
       "  <tbody>\n",
       "    <tr>\n",
       "      <th>RCACRareSp</th>\n",
       "      <td>6.670615</td>\n",
       "    </tr>\n",
       "    <tr>\n",
       "      <th>Weeds</th>\n",
       "      <td>2.858989</td>\n",
       "    </tr>\n",
       "    <tr>\n",
       "      <th>RCACLogs</th>\n",
       "      <td>1.824787</td>\n",
       "    </tr>\n",
       "    <tr>\n",
       "      <th>RCACRegene</th>\n",
       "      <td>1.815804</td>\n",
       "    </tr>\n",
       "    <tr>\n",
       "      <th>RCACGrassl</th>\n",
       "      <td>0.645064</td>\n",
       "    </tr>\n",
       "    <tr>\n",
       "      <th>Mistletoe</th>\n",
       "      <td>0.572407</td>\n",
       "    </tr>\n",
       "    <tr>\n",
       "      <th>BioticSoil</th>\n",
       "      <td>0.400592</td>\n",
       "    </tr>\n",
       "    <tr>\n",
       "      <th>RoadWidthM</th>\n",
       "      <td>0.263836</td>\n",
       "    </tr>\n",
       "    <tr>\n",
       "      <th>LengthM</th>\n",
       "      <td>-0.144218</td>\n",
       "    </tr>\n",
       "    <tr>\n",
       "      <th>i+e</th>\n",
       "      <td>0.136022</td>\n",
       "    </tr>\n",
       "    <tr>\n",
       "      <th>yf</th>\n",
       "      <td>0.119797</td>\n",
       "    </tr>\n",
       "    <tr>\n",
       "      <th>Powerline</th>\n",
       "      <td>-0.061677</td>\n",
       "    </tr>\n",
       "    <tr>\n",
       "      <th>PowerlineD</th>\n",
       "      <td>0.059780</td>\n",
       "    </tr>\n",
       "    <tr>\n",
       "      <th>EVCCode</th>\n",
       "      <td>0.029418</td>\n",
       "    </tr>\n",
       "    <tr>\n",
       "      <th>GroundFlor</th>\n",
       "      <td>-0.002611</td>\n",
       "    </tr>\n",
       "    <tr>\n",
       "      <th>n</th>\n",
       "      <td>0.000000</td>\n",
       "    </tr>\n",
       "    <tr>\n",
       "      <th>szb</th>\n",
       "      <td>0.000000</td>\n",
       "    </tr>\n",
       "    <tr>\n",
       "      <th>rg</th>\n",
       "      <td>0.000000</td>\n",
       "    </tr>\n",
       "    <tr>\n",
       "      <th>yd</th>\n",
       "      <td>0.000000</td>\n",
       "    </tr>\n",
       "    <tr>\n",
       "      <th>ye</th>\n",
       "      <td>0.000000</td>\n",
       "    </tr>\n",
       "    <tr>\n",
       "      <th>ma</th>\n",
       "      <td>0.000000</td>\n",
       "    </tr>\n",
       "    <tr>\n",
       "      <th>de</th>\n",
       "      <td>0.000000</td>\n",
       "    </tr>\n",
       "    <tr>\n",
       "      <th>yk</th>\n",
       "      <td>0.000000</td>\n",
       "    </tr>\n",
       "    <tr>\n",
       "      <th>dd</th>\n",
       "      <td>0.000000</td>\n",
       "    </tr>\n",
       "    <tr>\n",
       "      <th>SoilTypeNA</th>\n",
       "      <td>0.000000</td>\n",
       "    </tr>\n",
       "    <tr>\n",
       "      <th>sb/e</th>\n",
       "      <td>0.000000</td>\n",
       "    </tr>\n",
       "    <tr>\n",
       "      <th>sb</th>\n",
       "      <td>0.000000</td>\n",
       "    </tr>\n",
       "    <tr>\n",
       "      <th>st</th>\n",
       "      <td>0.000000</td>\n",
       "    </tr>\n",
       "    <tr>\n",
       "      <th>eh</th>\n",
       "      <td>0.000000</td>\n",
       "    </tr>\n",
       "    <tr>\n",
       "      <th>in</th>\n",
       "      <td>0.000000</td>\n",
       "    </tr>\n",
       "    <tr>\n",
       "      <th>i</th>\n",
       "      <td>0.000000</td>\n",
       "    </tr>\n",
       "    <tr>\n",
       "      <th>h</th>\n",
       "      <td>0.000000</td>\n",
       "    </tr>\n",
       "    <tr>\n",
       "      <th>en</th>\n",
       "      <td>0.000000</td>\n",
       "    </tr>\n",
       "    <tr>\n",
       "      <th>ei</th>\n",
       "      <td>0.000000</td>\n",
       "    </tr>\n",
       "    <tr>\n",
       "      <th>e/sb</th>\n",
       "      <td>0.000000</td>\n",
       "    </tr>\n",
       "    <tr>\n",
       "      <th>e</th>\n",
       "      <td>0.000000</td>\n",
       "    </tr>\n",
       "    <tr>\n",
       "      <th>BiomassRed</th>\n",
       "      <td>0.000000</td>\n",
       "    </tr>\n",
       "    <tr>\n",
       "      <th>Wetland</th>\n",
       "      <td>0.000000</td>\n",
       "    </tr>\n",
       "    <tr>\n",
       "      <th>CracksCrev</th>\n",
       "      <td>0.000000</td>\n",
       "    </tr>\n",
       "    <tr>\n",
       "      <th>Rocks</th>\n",
       "      <td>0.000000</td>\n",
       "    </tr>\n",
       "    <tr>\n",
       "      <th>HollowTree</th>\n",
       "      <td>0.000000</td>\n",
       "    </tr>\n",
       "    <tr>\n",
       "      <th>RCACGround</th>\n",
       "      <td>0.000000</td>\n",
       "    </tr>\n",
       "    <tr>\n",
       "      <th>WidthVarie</th>\n",
       "      <td>0.000000</td>\n",
       "    </tr>\n",
       "    <tr>\n",
       "      <th>yt</th>\n",
       "      <td>0.000000</td>\n",
       "    </tr>\n",
       "  </tbody>\n",
       "</table>\n",
       "</div>"
      ],
      "text/plain": [
       "            Coefficients\n",
       "RCACRareSp      6.670615\n",
       "Weeds           2.858989\n",
       "RCACLogs        1.824787\n",
       "RCACRegene      1.815804\n",
       "RCACGrassl      0.645064\n",
       "Mistletoe       0.572407\n",
       "BioticSoil      0.400592\n",
       "RoadWidthM      0.263836\n",
       "LengthM        -0.144218\n",
       "i+e             0.136022\n",
       "yf              0.119797\n",
       "Powerline      -0.061677\n",
       "PowerlineD      0.059780\n",
       "EVCCode         0.029418\n",
       "GroundFlor     -0.002611\n",
       "n               0.000000\n",
       "szb             0.000000\n",
       "rg              0.000000\n",
       "yd              0.000000\n",
       "ye              0.000000\n",
       "ma              0.000000\n",
       "de              0.000000\n",
       "yk              0.000000\n",
       "dd              0.000000\n",
       "SoilTypeNA      0.000000\n",
       "sb/e            0.000000\n",
       "sb              0.000000\n",
       "st              0.000000\n",
       "eh              0.000000\n",
       "in              0.000000\n",
       "i               0.000000\n",
       "h               0.000000\n",
       "en              0.000000\n",
       "ei              0.000000\n",
       "e/sb            0.000000\n",
       "e               0.000000\n",
       "BiomassRed      0.000000\n",
       "Wetland         0.000000\n",
       "CracksCrev      0.000000\n",
       "Rocks           0.000000\n",
       "HollowTree      0.000000\n",
       "RCACGround      0.000000\n",
       "WidthVarie      0.000000\n",
       "yt              0.000000"
      ]
     },
     "execution_count": 7,
     "metadata": {},
     "output_type": "execute_result"
    }
   ],
   "source": [
    "l1_logreg = LogisticRegression(solver = 'saga', penalty = 'l1', C = 0.1, max_iter = 1000)\n",
    "\n",
    "# Fit the model to the dataset\n",
    "l1_logreg.fit(X, y)\n",
    "\n",
    "# Create a dataframe from the coefficients\n",
    "l1_regularized_coefficients = pd.DataFrame(l1_logreg.coef_, columns = X.columns, index = ['Coefficients'])\n",
    "\n",
    "# Sort the data appropriately - remember, it is the MAGNITUDE of the data (regardless of sign) that tells you how \n",
    "# important a feature is\n",
    "l1_regularized_coefficients = l1_regularized_coefficients.T.sort_values(by = 'Coefficients', key = abs, ascending = False)\n",
    "\n",
    "# You'll notice that there are several coefficients that have a value of 0\n",
    "# in other words, these features do not affect the predictions of the model\n",
    "l1_regularized_coefficients"
   ]
  },
  {
   "cell_type": "markdown",
   "id": "9b5833e1",
   "metadata": {},
   "source": [
    "❓ What are the features that have absolutely no impact on chances of survival, according to your L1 model?\n",
    "- Assign them to a variable named `zero_impact_features`\n",
    "- Do you notice how some of them were \"highly important\" according to the non-regularized model ? \n",
    "- From now on, you should always regularize our linear models!"
   ]
  },
  {
   "cell_type": "code",
   "execution_count": 8,
   "id": "b6d57a61",
   "metadata": {},
   "outputs": [
    {
     "name": "stdout",
     "output_type": "stream",
     "text": [
      "Most important features according to base model:  ['RCACRareSp', 'in', 'RCACGround', 'ei', 'h']\n",
      "Completely useless features according to L1 model:  ['n', 'szb', 'rg', 'yd', 'ye', 'ma', 'de', 'yk', 'dd', 'SoilTypeNA', 'sb/e', 'sb', 'st', 'eh', 'in', 'i', 'h', 'en', 'ei', 'e/sb', 'e', 'BiomassRed', 'Wetland', 'CracksCrev', 'Rocks', 'HollowTree', 'RCACGround', 'WidthVarie', 'yt']\n"
     ]
    }
   ],
   "source": [
    "zero_impact_features = l1_regularized_coefficients[l1_regularized_coefficients['Coefficients'] == 0].index.to_list()\n",
    "\n",
    "# Features in both lists: RCACGround, ei, h, in\n",
    "print('Most important features according to base model: ', base_most_important)\n",
    "print('Completely useless features according to L1 model: ', zero_impact_features)"
   ]
  },
  {
   "cell_type": "markdown",
   "id": "d5d92593",
   "metadata": {},
   "source": [
    "❓ Now cross validate a model with the same parameters as the model above, and save the mean score under a variable named `l1_model_score`. What can you say about the new score compare to the `base_model_score` and `l2_model_score`?"
   ]
  },
  {
   "cell_type": "code",
   "execution_count": 9,
   "id": "7e007db9",
   "metadata": {},
   "outputs": [
    {
     "name": "stdout",
     "output_type": "stream",
     "text": [
      "Base model score:  0.8996421548452005\n",
      "L1 model score:  0.9297074358622582\n",
      "L2 model score:  0.92159932775415\n"
     ]
    }
   ],
   "source": [
    "# Run the cross validation with cv = 5\n",
    "# This returns a dictionary\n",
    "score_dict = cross_validate(l1_logreg, X, y, cv = 5)\n",
    "\n",
    "# The 'test_score' key contains an array of test scores, so find the mean of that array to get base_model_score\n",
    "l1_model_score = score_dict['test_score'].mean()\n",
    "\n",
    "print('Base model score: ', base_model_score)\n",
    "print('L1 model score: ', l1_model_score)\n",
    "print('L2 model score: ', l2_model_score)"
   ]
  },
  {
   "cell_type": "markdown",
   "id": "c0bd5fcf",
   "metadata": {},
   "source": [
    "# Exercise 2\n",
    "<a id=\"x3\"></a>\n",
    "In this exercise, we're going to combine everything we've learned on the course and try to improve our ability to predict porosity based on our dataset. You will use the `SVR` algorithm for this, and will engineer a pipeline that uses RandomizedSearchCV to optimize your solution.\n",
    "\n",
    "There are [two hyperparameters in the scikit-learn SVR model that you should focus on for this exercise](https://scikit-learn.org/stable/modules/generated/sklearn.svm.SVR.html):\n",
    "* Test the effect of changing the `kernel` in your model: the values can be \"linear\", \"rbf\", or \"sigmoid\". **Do not** use \"poly\" for this exercise, it could take a very long time to compute (hours!).\n",
    "* Test the effect of changing the slack variable `C`. As you might have guessed based on the name, the slack variable is effectively the regularization hyperparameter for SVM.\n",
    "\n",
    "Your goal is twofold:\n",
    "1. Obtain a trained algorithm that does not overfit the training data, i.e. if you test it with our test_model utility function (i.e., the learning curve function we made in Lesson 6, it should return roughly the same errors for both the training and testing sets.\n",
    "2. Improve our predictions. We found that Decision Trees and to a lesser extent, Random Forests significantly overfit the data, so we should avoid using those. Linear Regression and the the default `SVR` model perform well with an RSME of around 10%. Can you do better?\n",
    "\n",
    "What you will need to do:\n",
    "* You need to open the dataset you are very familiar with in 'Dataset/core_data.csv', and split it in a train set and a test set\n",
    "* Remember that we want to predict porosity: this is our target set `y`, all the other features are used for predicting.\n",
    "* Don't forget what you learned over the last few lessons about pipelines, RandomSearchCV, etc... Put it all together here.\n",
    "\n",
    "Bonus points if you beat my personal best of 7.6% error on the test set!\n",
    "\n",
    "Good luck!\n",
    "\n",
    "**P.S. All you need to know is in this notebook, but you also want to [consult the Scikit-Learn documentation on SVR](https://scikit-learn.org/stable/modules/generated/sklearn.svm.SVR.html) to know how the different hyperparameters are called. Feel free to experiment with strange numbers. I recommend identifying first what kernel performs best, and then spending time on improving the results using the other hyperparameter.**"
   ]
  },
  {
   "cell_type": "code",
   "execution_count": 2,
   "id": "83fe25df",
   "metadata": {},
   "outputs": [],
   "source": [
    "from sklearn.model_selection import train_test_split, RandomizedSearchCV, GridSearchCV\n",
    "from sklearn.impute import SimpleImputer\n",
    "from sklearn.preprocessing import StandardScaler, MinMaxScaler\n",
    "from sklearn.pipeline import Pipeline\n",
    "from sklearn.svm import SVR\n",
    "from scipy.stats import randint\n",
    "\n",
    "# Load data\n",
    "data = pd.read_csv('Data/core_data_scaled.csv')\n",
    "\n",
    "# Drop duplicates\n",
    "data.drop_duplicates(inplace = True)\n",
    "\n",
    "# Split into features and targets\n",
    "X = data.drop(columns = 'Porosity (vol%)')\n",
    "y = data['Porosity (vol%)']\n",
    "\n",
    "# Split into training and testing set\n",
    "X_train, X_test, y_train, y_test = train_test_split(X, y, train_size = 0.7, random_state = 42)\n",
    "\n",
    "# Create pipeline\n",
    "svr_pipe = Pipeline([\n",
    "    ('imputer', SimpleImputer()),\n",
    "    ('scaler', MinMaxScaler()),\n",
    "    ('svr', SVR())\n",
    "])\n",
    "\n",
    "# Set up parameter grid\n",
    "param_grid = {\n",
    "    'svr__kernel': [\"linear\", \"rbf\", \"sigmoid\"],    \n",
    "    'svr__C': [10**i for i in range(-3, 5)] # this generates the following list: 0.001, 0.01, 0.1, ... 1000, 10000\n",
    "}\n",
    "\n",
    "# Set up the GridSearch with the SVR_pipe\n",
    "searcher = GridSearchCV(\n",
    "    svr_pipe,\n",
    "    param_grid = param_grid, \n",
    "    cv=5,\n",
    "    scoring='neg_mean_squared_error',\n",
    "    verbose = 5,\n",
    "    n_jobs = -1\n",
    ")"
   ]
  },
  {
   "cell_type": "code",
   "execution_count": 3,
   "id": "60195450",
   "metadata": {},
   "outputs": [
    {
     "name": "stdout",
     "output_type": "stream",
     "text": [
      "Fitting 5 folds for each of 24 candidates, totalling 120 fits\n",
      "Wall time: 1min 7s\n"
     ]
    },
    {
     "data": {
      "text/plain": [
       "Pipeline(steps=[('imputer', SimpleImputer()), ('scaler', MinMaxScaler()),\n",
       "                ('svr', SVR(C=1000))])"
      ]
     },
     "execution_count": 3,
     "metadata": {},
     "output_type": "execute_result"
    }
   ],
   "source": [
    "%%time\n",
    "\n",
    "# Fit the searcher to the training set\n",
    "searcher.fit(X_train, y_train)\n",
    "\n",
    "# The parameters of the best_estimator are C = 1000, kernel = 'rbf'\n",
    "# At least for me! You might have something different\n",
    "searcher.best_estimator_"
   ]
  },
  {
   "cell_type": "code",
   "execution_count": 5,
   "id": "c62ebae9",
   "metadata": {},
   "outputs": [
    {
     "data": {
      "text/plain": [
       "GridSearchCV(cv=5,\n",
       "             estimator=Pipeline(steps=[('imputer', SimpleImputer()),\n",
       "                                       ('scaler', MinMaxScaler()),\n",
       "                                       ('svr', SVR())]),\n",
       "             n_jobs=-1,\n",
       "             param_grid={'svr__C': [0.001, 0.01, 0.1, 1, 10, 100, 1000, 10000],\n",
       "                         'svr__kernel': ['linear', 'rbf', 'sigmoid']},\n",
       "             scoring='neg_mean_squared_error', verbose=5)"
      ]
     },
     "execution_count": 5,
     "metadata": {},
     "output_type": "execute_result"
    }
   ],
   "source": [
    "searcher"
   ]
  },
  {
   "cell_type": "code",
   "execution_count": null,
   "id": "a9e713dc",
   "metadata": {},
   "outputs": [],
   "source": []
  },
  {
   "cell_type": "code",
   "execution_count": 4,
   "id": "80caafa8",
   "metadata": {},
   "outputs": [
    {
     "name": "stdout",
     "output_type": "stream",
     "text": [
      "Best model (according to GridSearchCV) had an RMSE score of (based on the cross_val):  7.5195472066311755\n",
      "Best model RMSE when used on unseen testing data:  7.182497228881278\n"
     ]
    }
   ],
   "source": [
    "from sklearn.metrics import mean_squared_error\n",
    "\n",
    "# The best searcher had an RMSE of:\n",
    "print('Best model (according to GridSearchCV) had an RMSE score of (based on the cross_val): ', np.sqrt(-searcher.best_score_))\n",
    "\n",
    "# Assess the best model on unseen data...\n",
    "y_pred = searcher.best_estimator_.predict(X_test)\n",
    "\n",
    "# RMSE of the best model on the test data is 7.18! Very nice indeed\n",
    "print('Best model RMSE when used on unseen testing data: ', np.sqrt(mean_squared_error(y_test, y_pred)))"
   ]
  },
  {
   "cell_type": "markdown",
   "id": "ab52a611",
   "metadata": {},
   "source": [
    "# Exercise 3\n",
    "\n",
    "In this simple exercise, we will reuse the porosity dataset (i.e. we can use the `X_train` and `y_train` you created above). The goal is to illustrate how the KNN regressor works by plotting the RMSE of the porosity prediction for each value of `k` from 1 to 50.\n",
    "\n",
    "In order to do that, do the following:\n",
    "* Loop through values of `k` ranging from 1 to 50\n",
    "* For each value of k, do a 5-fold cross validation of a `KNeighborsRegressor` using `k` nearest neighbors. Use the `neg_mean_squared_error` and a cv of 5.\n",
    "* Save the mean test score of each cv in a list\n",
    "* Once you are done looping through those values, plot number of neighbors vs RMSE.\n",
    "\n",
    "What do you conclude about the best `k` value for this particular dataset?\n",
    "\n",
    "**Note**: The actual name for the `k` parameter used by the KNeighbors models is `n_neighbors`."
   ]
  },
  {
   "cell_type": "code",
   "execution_count": 13,
   "id": "59e935e2",
   "metadata": {},
   "outputs": [
    {
     "name": "stdout",
     "output_type": "stream",
     "text": [
      "Best k:  5\n",
      "Best score:  7.141423705857465\n"
     ]
    },
    {
     "data": {
      "image/png": "[encoded data removed]",
      "text/plain": [
       "<Figure size 1200x600 with 1 Axes>"
      ]
     },
     "metadata": {},
     "output_type": "display_data"
    }
   ],
   "source": [
    "from sklearn.neighbors import KNeighborsRegressor\n",
    "from sklearn.model_selection import cross_validate\n",
    "import matplotlib.pyplot as plt\n",
    "\n",
    "# Prep a list of RMSE scores\n",
    "score = []\n",
    "\n",
    "for k in range(1,51):\n",
    "    # Cross validate using the appropriate parameters\n",
    "    cv_score = cross_validate(KNeighborsRegressor(n_neighbors=k), X_train, y_train, cv=5, scoring='neg_mean_squared_error')\n",
    "    score.append(np.sqrt(-cv_score['test_score'].mean()))\n",
    "\n",
    "print('Best k: ', score.index(min(score)))\n",
    "print('Best score: ', np.min(score))    \n",
    "\n",
    "fig, ax = plt.subplots(1,1,figsize=(12,6))\n",
    "ax.plot(score)\n",
    "ax.set_xlabel('k')\n",
    "ax.set_ylabel('RMSE');"
   ]
  },
  {
   "cell_type": "markdown",
   "id": "d8790315",
   "metadata": {},
   "source": [
    "# Exercise 4\n",
    "\n",
    "What is the accuracy of a KNN Classifier on the biodiversity dataset? You will need to open the 'Dataset/biodiversity-prepared.csv' file and separate the features (`X`) and target (`y`; `RCACScore`). For this exercise, no need to split your dataset as we will rely on cross-validation only: use RandomizedSearchCV to find the best k, and thus the best accuracy.\n",
    "\n",
    "**NOTE**: There is a bug with the KNN Classifier in sklearn version 1.3.0. If you get an error where all of your test scores are `nan`, use `model.fit(X.values, y)` to fix the issue (rather than `model.fit(X, y)`). "
   ]
  },
  {
   "cell_type": "code",
   "execution_count": 15,
   "id": "8dffd46e",
   "metadata": {},
   "outputs": [
    {
     "name": "stdout",
     "output_type": "stream",
     "text": [
      "Fitting 5 folds for each of 200 candidates, totalling 1000 fits\n"
     ]
    },
    {
     "data": {
      "text/html": [
       "<style>#sk-container-id-2 {color: black;background-color: white;}#sk-container-id-2 pre{padding: 0;}#sk-container-id-2 div.sk-toggleable {background-color: white;}#sk-container-id-2 label.sk-toggleable__label {cursor: pointer;display: block;width: 100%;margin-bottom: 0;padding: 0.3em;box-sizing: border-box;text-align: center;}#sk-container-id-2 label.sk-toggleable__label-arrow:before {content: \"▸\";float: left;margin-right: 0.25em;color: #696969;}#sk-container-id-2 label.sk-toggleable__label-arrow:hover:before {color: black;}#sk-container-id-2 div.sk-estimator:hover label.sk-toggleable__label-arrow:before {color: black;}#sk-container-id-2 div.sk-toggleable__content {max-height: 0;max-width: 0;overflow: hidden;text-align: left;background-color: #f0f8ff;}#sk-container-id-2 div.sk-toggleable__content pre {margin: 0.2em;color: black;border-radius: 0.25em;background-color: #f0f8ff;}#sk-container-id-2 input.sk-toggleable__control:checked~div.sk-toggleable__content {max-height: 200px;max-width: 100%;overflow: auto;}#sk-container-id-2 input.sk-toggleable__control:checked~label.sk-toggleable__label-arrow:before {content: \"▾\";}#sk-container-id-2 div.sk-estimator input.sk-toggleable__control:checked~label.sk-toggleable__label {background-color: #d4ebff;}#sk-container-id-2 div.sk-label input.sk-toggleable__control:checked~label.sk-toggleable__label {background-color: #d4ebff;}#sk-container-id-2 input.sk-hidden--visually {border: 0;clip: rect(1px 1px 1px 1px);clip: rect(1px, 1px, 1px, 1px);height: 1px;margin: -1px;overflow: hidden;padding: 0;position: absolute;width: 1px;}#sk-container-id-2 div.sk-estimator {font-family: monospace;background-color: #f0f8ff;border: 1px dotted black;border-radius: 0.25em;box-sizing: border-box;margin-bottom: 0.5em;}#sk-container-id-2 div.sk-estimator:hover {background-color: #d4ebff;}#sk-container-id-2 div.sk-parallel-item::after {content: \"\";width: 100%;border-bottom: 1px solid gray;flex-grow: 1;}#sk-container-id-2 div.sk-label:hover label.sk-toggleable__label {background-color: #d4ebff;}#sk-container-id-2 div.sk-serial::before {content: \"\";position: absolute;border-left: 1px solid gray;box-sizing: border-box;top: 0;bottom: 0;left: 50%;z-index: 0;}#sk-container-id-2 div.sk-serial {display: flex;flex-direction: column;align-items: center;background-color: white;padding-right: 0.2em;padding-left: 0.2em;position: relative;}#sk-container-id-2 div.sk-item {position: relative;z-index: 1;}#sk-container-id-2 div.sk-parallel {display: flex;align-items: stretch;justify-content: center;background-color: white;position: relative;}#sk-container-id-2 div.sk-item::before, #sk-container-id-2 div.sk-parallel-item::before {content: \"\";position: absolute;border-left: 1px solid gray;box-sizing: border-box;top: 0;bottom: 0;left: 50%;z-index: -1;}#sk-container-id-2 div.sk-parallel-item {display: flex;flex-direction: column;z-index: 1;position: relative;background-color: white;}#sk-container-id-2 div.sk-parallel-item:first-child::after {align-self: flex-end;width: 50%;}#sk-container-id-2 div.sk-parallel-item:last-child::after {align-self: flex-start;width: 50%;}#sk-container-id-2 div.sk-parallel-item:only-child::after {width: 0;}#sk-container-id-2 div.sk-dashed-wrapped {border: 1px dashed gray;margin: 0 0.4em 0.5em 0.4em;box-sizing: border-box;padding-bottom: 0.4em;background-color: white;}#sk-container-id-2 div.sk-label label {font-family: monospace;font-weight: bold;display: inline-block;line-height: 1.2em;}#sk-container-id-2 div.sk-label-container {text-align: center;}#sk-container-id-2 div.sk-container {/* jupyter's `normalize.less` sets `[hidden] { display: none; }` but bootstrap.min.css set `[hidden] { display: none !important; }` so we also need the `!important` here to be able to override the default hidden behavior on the sphinx rendered scikit-learn.org. See: https://github.com/scikit-learn/scikit-learn/issues/21755 */display: inline-block !important;position: relative;}#sk-container-id-2 div.sk-text-repr-fallback {display: none;}</style><div id=\"sk-container-id-2\" class=\"sk-top-container\"><div class=\"sk-text-repr-fallback\"><pre>RandomizedSearchCV(cv=5, estimator=KNeighborsClassifier(), n_iter=200,\n",
       "                   n_jobs=-1,\n",
       "                   param_distributions={&#x27;n_neighbors&#x27;: &lt;scipy.stats._distn_infrastructure.rv_discrete_frozen object at 0x00000228EBE9F6A0&gt;},\n",
       "                   random_state=42, scoring=&#x27;accuracy&#x27;, verbose=5)</pre><b>In a Jupyter environment, please rerun this cell to show the HTML representation or trust the notebook. <br />On GitHub, the HTML representation is unable to render, please try loading this page with nbviewer.org.</b></div><div class=\"sk-container\" hidden><div class=\"sk-item sk-dashed-wrapped\"><div class=\"sk-label-container\"><div class=\"sk-label sk-toggleable\"><input class=\"sk-toggleable__control sk-hidden--visually\" id=\"sk-estimator-id-5\" type=\"checkbox\" ><label for=\"sk-estimator-id-5\" class=\"sk-toggleable__label sk-toggleable__label-arrow\">RandomizedSearchCV</label><div class=\"sk-toggleable__content\"><pre>RandomizedSearchCV(cv=5, estimator=KNeighborsClassifier(), n_iter=200,\n",
       "                   n_jobs=-1,\n",
       "                   param_distributions={&#x27;n_neighbors&#x27;: &lt;scipy.stats._distn_infrastructure.rv_discrete_frozen object at 0x00000228EBE9F6A0&gt;},\n",
       "                   random_state=42, scoring=&#x27;accuracy&#x27;, verbose=5)</pre></div></div></div><div class=\"sk-parallel\"><div class=\"sk-parallel-item\"><div class=\"sk-item\"><div class=\"sk-label-container\"><div class=\"sk-label sk-toggleable\"><input class=\"sk-toggleable__control sk-hidden--visually\" id=\"sk-estimator-id-6\" type=\"checkbox\" ><label for=\"sk-estimator-id-6\" class=\"sk-toggleable__label sk-toggleable__label-arrow\">estimator: KNeighborsClassifier</label><div class=\"sk-toggleable__content\"><pre>KNeighborsClassifier()</pre></div></div></div><div class=\"sk-serial\"><div class=\"sk-item\"><div class=\"sk-estimator sk-toggleable\"><input class=\"sk-toggleable__control sk-hidden--visually\" id=\"sk-estimator-id-7\" type=\"checkbox\" ><label for=\"sk-estimator-id-7\" class=\"sk-toggleable__label sk-toggleable__label-arrow\">KNeighborsClassifier</label><div class=\"sk-toggleable__content\"><pre>KNeighborsClassifier()</pre></div></div></div></div></div></div></div></div></div></div>"
      ],
      "text/plain": [
       "RandomizedSearchCV(cv=5, estimator=KNeighborsClassifier(), n_iter=200,\n",
       "                   n_jobs=-1,\n",
       "                   param_distributions={'n_neighbors': <scipy.stats._distn_infrastructure.rv_discrete_frozen object at 0x00000228EBE9F6A0>},\n",
       "                   random_state=42, scoring='accuracy', verbose=5)"
      ]
     },
     "execution_count": 15,
     "metadata": {},
     "output_type": "execute_result"
    }
   ],
   "source": [
    "from scipy.stats import randint\n",
    "from sklearn.neighbors import KNeighborsClassifier\n",
    "\n",
    "# Import data\n",
    "data = pd.read_csv('Data/biodiversity-prepared.csv')\n",
    "\n",
    "# X, y split\n",
    "X = data.drop(columns='RCACScore')\n",
    "y = data['RCACScore']\n",
    "\n",
    "# Parameter grid\n",
    "param_grid = {\n",
    "        'n_neighbors': randint(low=2, high=500)\n",
    "}\n",
    "\n",
    "# Random search using the appropriate values\n",
    "knn_rnd_search = RandomizedSearchCV(\n",
    "    KNeighborsClassifier(), \n",
    "    param_distributions = param_grid,\n",
    "    n_iter=200,\n",
    "    cv=5,\n",
    "    scoring='accuracy',\n",
    "    n_jobs=-1,\n",
    "    random_state=42,\n",
    "    verbose = 5\n",
    ")\n",
    "\n",
    "# Fit this model\n",
    "knn_rnd_search.fit(X.values, y)"
   ]
  },
  {
   "cell_type": "code",
   "execution_count": 16,
   "id": "01d34c69",
   "metadata": {},
   "outputs": [
    {
     "name": "stdout",
     "output_type": "stream",
     "text": [
      "Accuracy of best performing model:  0.8239298943613663\n"
     ]
    }
   ],
   "source": [
    "print('Accuracy of best performing model: ', knn_rnd_search.best_score_)"
   ]
  },
  {
   "cell_type": "markdown",
   "id": "25ceba2a",
   "metadata": {},
   "source": [
    "# Exercise 5\n",
    "\n",
    "In this exercise, we are going to use PCA to extract greater performances from our models on this small dataset. First, let's see how much of the explained variance each component would get us. When you do a PCA analysis, the principal components are sorted in order of their contribution to explaining the variance of your data. Component 1 is the most important, 2 is a bit less important, etc...the `pca` object contains an attribute that contains the %-contribution that each component makes to the variability of your data.\n",
    "\n",
    "In the first part of our exercise, we will try to plot this cumulative variance. Do the following:\n",
    "\n",
    "* Create a new `PCA` model and fit it with the features of the biodiversity dataset (in my case this is called `X`)\n",
    "* Create an empty array (a good name for it would be `explained_variance`)\n",
    "* Using a loop, add the cumulative sum of the explained variance from component 1 to the last component. You will need to take the sum of each component, gradually adding more components. Save your values in the array\n",
    "* Plot the % of explained variance (your array)\n",
    "\n",
    "What do you observe?"
   ]
  },
  {
   "cell_type": "code",
   "execution_count": 17,
   "id": "e4593568",
   "metadata": {},
   "outputs": [
    {
     "data": {
      "text/html": [
       "<style>#sk-container-id-3 {color: black;background-color: white;}#sk-container-id-3 pre{padding: 0;}#sk-container-id-3 div.sk-toggleable {background-color: white;}#sk-container-id-3 label.sk-toggleable__label {cursor: pointer;display: block;width: 100%;margin-bottom: 0;padding: 0.3em;box-sizing: border-box;text-align: center;}#sk-container-id-3 label.sk-toggleable__label-arrow:before {content: \"▸\";float: left;margin-right: 0.25em;color: #696969;}#sk-container-id-3 label.sk-toggleable__label-arrow:hover:before {color: black;}#sk-container-id-3 div.sk-estimator:hover label.sk-toggleable__label-arrow:before {color: black;}#sk-container-id-3 div.sk-toggleable__content {max-height: 0;max-width: 0;overflow: hidden;text-align: left;background-color: #f0f8ff;}#sk-container-id-3 div.sk-toggleable__content pre {margin: 0.2em;color: black;border-radius: 0.25em;background-color: #f0f8ff;}#sk-container-id-3 input.sk-toggleable__control:checked~div.sk-toggleable__content {max-height: 200px;max-width: 100%;overflow: auto;}#sk-container-id-3 input.sk-toggleable__control:checked~label.sk-toggleable__label-arrow:before {content: \"▾\";}#sk-container-id-3 div.sk-estimator input.sk-toggleable__control:checked~label.sk-toggleable__label {background-color: #d4ebff;}#sk-container-id-3 div.sk-label input.sk-toggleable__control:checked~label.sk-toggleable__label {background-color: #d4ebff;}#sk-container-id-3 input.sk-hidden--visually {border: 0;clip: rect(1px 1px 1px 1px);clip: rect(1px, 1px, 1px, 1px);height: 1px;margin: -1px;overflow: hidden;padding: 0;position: absolute;width: 1px;}#sk-container-id-3 div.sk-estimator {font-family: monospace;background-color: #f0f8ff;border: 1px dotted black;border-radius: 0.25em;box-sizing: border-box;margin-bottom: 0.5em;}#sk-container-id-3 div.sk-estimator:hover {background-color: #d4ebff;}#sk-container-id-3 div.sk-parallel-item::after {content: \"\";width: 100%;border-bottom: 1px solid gray;flex-grow: 1;}#sk-container-id-3 div.sk-label:hover label.sk-toggleable__label {background-color: #d4ebff;}#sk-container-id-3 div.sk-serial::before {content: \"\";position: absolute;border-left: 1px solid gray;box-sizing: border-box;top: 0;bottom: 0;left: 50%;z-index: 0;}#sk-container-id-3 div.sk-serial {display: flex;flex-direction: column;align-items: center;background-color: white;padding-right: 0.2em;padding-left: 0.2em;position: relative;}#sk-container-id-3 div.sk-item {position: relative;z-index: 1;}#sk-container-id-3 div.sk-parallel {display: flex;align-items: stretch;justify-content: center;background-color: white;position: relative;}#sk-container-id-3 div.sk-item::before, #sk-container-id-3 div.sk-parallel-item::before {content: \"\";position: absolute;border-left: 1px solid gray;box-sizing: border-box;top: 0;bottom: 0;left: 50%;z-index: -1;}#sk-container-id-3 div.sk-parallel-item {display: flex;flex-direction: column;z-index: 1;position: relative;background-color: white;}#sk-container-id-3 div.sk-parallel-item:first-child::after {align-self: flex-end;width: 50%;}#sk-container-id-3 div.sk-parallel-item:last-child::after {align-self: flex-start;width: 50%;}#sk-container-id-3 div.sk-parallel-item:only-child::after {width: 0;}#sk-container-id-3 div.sk-dashed-wrapped {border: 1px dashed gray;margin: 0 0.4em 0.5em 0.4em;box-sizing: border-box;padding-bottom: 0.4em;background-color: white;}#sk-container-id-3 div.sk-label label {font-family: monospace;font-weight: bold;display: inline-block;line-height: 1.2em;}#sk-container-id-3 div.sk-label-container {text-align: center;}#sk-container-id-3 div.sk-container {/* jupyter's `normalize.less` sets `[hidden] { display: none; }` but bootstrap.min.css set `[hidden] { display: none !important; }` so we also need the `!important` here to be able to override the default hidden behavior on the sphinx rendered scikit-learn.org. See: https://github.com/scikit-learn/scikit-learn/issues/21755 */display: inline-block !important;position: relative;}#sk-container-id-3 div.sk-text-repr-fallback {display: none;}</style><div id=\"sk-container-id-3\" class=\"sk-top-container\"><div class=\"sk-text-repr-fallback\"><pre>PCA()</pre><b>In a Jupyter environment, please rerun this cell to show the HTML representation or trust the notebook. <br />On GitHub, the HTML representation is unable to render, please try loading this page with nbviewer.org.</b></div><div class=\"sk-container\" hidden><div class=\"sk-item\"><div class=\"sk-estimator sk-toggleable\"><input class=\"sk-toggleable__control sk-hidden--visually\" id=\"sk-estimator-id-8\" type=\"checkbox\" checked><label for=\"sk-estimator-id-8\" class=\"sk-toggleable__label sk-toggleable__label-arrow\">PCA</label><div class=\"sk-toggleable__content\"><pre>PCA()</pre></div></div></div></div></div>"
      ],
      "text/plain": [
       "PCA()"
      ]
     },
     "execution_count": 17,
     "metadata": {},
     "output_type": "execute_result"
    }
   ],
   "source": [
    "from sklearn.decomposition import PCA\n",
    "\n",
    "# Create PCA model and fit it to X\n",
    "pca = PCA()\n",
    "pca.fit(X)"
   ]
  },
  {
   "cell_type": "code",
   "execution_count": 22,
   "id": "f296a7ca",
   "metadata": {},
   "outputs": [
    {
     "data": {
      "image/png": "[encoded data removed]",
      "text/plain": [
       "<Figure size 640x480 with 1 Axes>"
      ]
     },
     "metadata": {},
     "output_type": "display_data"
    }
   ],
   "source": [
    "# We actually learned how to find cumulative sum without a loop in Lecture 2\n",
    "explained_variance = pca.explained_variance_ratio_.cumsum()\n",
    "\n",
    "# More than 90% of the variance can be explained in less than 10 components!\n",
    "plt.plot(explained_variance);"
   ]
  },
  {
   "cell_type": "markdown",
   "id": "e41b2492",
   "metadata": {},
   "source": [
    "### Finding the best number of component and k for our algorithm\n",
    "\n",
    "Now let's see if PCA can help us get a few percent improvement in accuracy, using less features. Use a pipeline and `RandomizedSearchCV` to identify the best combination of `n_components` to use for our PCA object and the best value of `k` for a KNN classifier. What accuracy score do you obtain?"
   ]
  },
  {
   "cell_type": "code",
   "execution_count": 28,
   "id": "1dd73d4a",
   "metadata": {},
   "outputs": [
    {
     "name": "stdout",
     "output_type": "stream",
     "text": [
      "Fitting 5 folds for each of 200 candidates, totalling 1000 fits\n"
     ]
    },
    {
     "data": {
      "text/html": [
       "<style>#sk-container-id-5 {color: black;background-color: white;}#sk-container-id-5 pre{padding: 0;}#sk-container-id-5 div.sk-toggleable {background-color: white;}#sk-container-id-5 label.sk-toggleable__label {cursor: pointer;display: block;width: 100%;margin-bottom: 0;padding: 0.3em;box-sizing: border-box;text-align: center;}#sk-container-id-5 label.sk-toggleable__label-arrow:before {content: \"▸\";float: left;margin-right: 0.25em;color: #696969;}#sk-container-id-5 label.sk-toggleable__label-arrow:hover:before {color: black;}#sk-container-id-5 div.sk-estimator:hover label.sk-toggleable__label-arrow:before {color: black;}#sk-container-id-5 div.sk-toggleable__content {max-height: 0;max-width: 0;overflow: hidden;text-align: left;background-color: #f0f8ff;}#sk-container-id-5 div.sk-toggleable__content pre {margin: 0.2em;color: black;border-radius: 0.25em;background-color: #f0f8ff;}#sk-container-id-5 input.sk-toggleable__control:checked~div.sk-toggleable__content {max-height: 200px;max-width: 100%;overflow: auto;}#sk-container-id-5 input.sk-toggleable__control:checked~label.sk-toggleable__label-arrow:before {content: \"▾\";}#sk-container-id-5 div.sk-estimator input.sk-toggleable__control:checked~label.sk-toggleable__label {background-color: #d4ebff;}#sk-container-id-5 div.sk-label input.sk-toggleable__control:checked~label.sk-toggleable__label {background-color: #d4ebff;}#sk-container-id-5 input.sk-hidden--visually {border: 0;clip: rect(1px 1px 1px 1px);clip: rect(1px, 1px, 1px, 1px);height: 1px;margin: -1px;overflow: hidden;padding: 0;position: absolute;width: 1px;}#sk-container-id-5 div.sk-estimator {font-family: monospace;background-color: #f0f8ff;border: 1px dotted black;border-radius: 0.25em;box-sizing: border-box;margin-bottom: 0.5em;}#sk-container-id-5 div.sk-estimator:hover {background-color: #d4ebff;}#sk-container-id-5 div.sk-parallel-item::after {content: \"\";width: 100%;border-bottom: 1px solid gray;flex-grow: 1;}#sk-container-id-5 div.sk-label:hover label.sk-toggleable__label {background-color: #d4ebff;}#sk-container-id-5 div.sk-serial::before {content: \"\";position: absolute;border-left: 1px solid gray;box-sizing: border-box;top: 0;bottom: 0;left: 50%;z-index: 0;}#sk-container-id-5 div.sk-serial {display: flex;flex-direction: column;align-items: center;background-color: white;padding-right: 0.2em;padding-left: 0.2em;position: relative;}#sk-container-id-5 div.sk-item {position: relative;z-index: 1;}#sk-container-id-5 div.sk-parallel {display: flex;align-items: stretch;justify-content: center;background-color: white;position: relative;}#sk-container-id-5 div.sk-item::before, #sk-container-id-5 div.sk-parallel-item::before {content: \"\";position: absolute;border-left: 1px solid gray;box-sizing: border-box;top: 0;bottom: 0;left: 50%;z-index: -1;}#sk-container-id-5 div.sk-parallel-item {display: flex;flex-direction: column;z-index: 1;position: relative;background-color: white;}#sk-container-id-5 div.sk-parallel-item:first-child::after {align-self: flex-end;width: 50%;}#sk-container-id-5 div.sk-parallel-item:last-child::after {align-self: flex-start;width: 50%;}#sk-container-id-5 div.sk-parallel-item:only-child::after {width: 0;}#sk-container-id-5 div.sk-dashed-wrapped {border: 1px dashed gray;margin: 0 0.4em 0.5em 0.4em;box-sizing: border-box;padding-bottom: 0.4em;background-color: white;}#sk-container-id-5 div.sk-label label {font-family: monospace;font-weight: bold;display: inline-block;line-height: 1.2em;}#sk-container-id-5 div.sk-label-container {text-align: center;}#sk-container-id-5 div.sk-container {/* jupyter's `normalize.less` sets `[hidden] { display: none; }` but bootstrap.min.css set `[hidden] { display: none !important; }` so we also need the `!important` here to be able to override the default hidden behavior on the sphinx rendered scikit-learn.org. See: https://github.com/scikit-learn/scikit-learn/issues/21755 */display: inline-block !important;position: relative;}#sk-container-id-5 div.sk-text-repr-fallback {display: none;}</style><div id=\"sk-container-id-5\" class=\"sk-top-container\"><div class=\"sk-text-repr-fallback\"><pre>RandomizedSearchCV(cv=5,\n",
       "                   estimator=Pipeline(steps=[(&#x27;pca&#x27;, PCA()),\n",
       "                                             (&#x27;knn&#x27;, KNeighborsClassifier())]),\n",
       "                   n_iter=200, n_jobs=-1,\n",
       "                   param_distributions={&#x27;knn__n_neighbors&#x27;: &lt;scipy.stats._distn_infrastructure.rv_discrete_frozen object at 0x00000228E7F13AC0&gt;,\n",
       "                                        &#x27;pca__n_components&#x27;: &lt;scipy.stats._distn_infrastructure.rv_discrete_frozen object at 0x00000228EBE9DF90&gt;},\n",
       "                   random_state=42, scoring=&#x27;accuracy&#x27;, verbose=5)</pre><b>In a Jupyter environment, please rerun this cell to show the HTML representation or trust the notebook. <br />On GitHub, the HTML representation is unable to render, please try loading this page with nbviewer.org.</b></div><div class=\"sk-container\" hidden><div class=\"sk-item sk-dashed-wrapped\"><div class=\"sk-label-container\"><div class=\"sk-label sk-toggleable\"><input class=\"sk-toggleable__control sk-hidden--visually\" id=\"sk-estimator-id-13\" type=\"checkbox\" ><label for=\"sk-estimator-id-13\" class=\"sk-toggleable__label sk-toggleable__label-arrow\">RandomizedSearchCV</label><div class=\"sk-toggleable__content\"><pre>RandomizedSearchCV(cv=5,\n",
       "                   estimator=Pipeline(steps=[(&#x27;pca&#x27;, PCA()),\n",
       "                                             (&#x27;knn&#x27;, KNeighborsClassifier())]),\n",
       "                   n_iter=200, n_jobs=-1,\n",
       "                   param_distributions={&#x27;knn__n_neighbors&#x27;: &lt;scipy.stats._distn_infrastructure.rv_discrete_frozen object at 0x00000228E7F13AC0&gt;,\n",
       "                                        &#x27;pca__n_components&#x27;: &lt;scipy.stats._distn_infrastructure.rv_discrete_frozen object at 0x00000228EBE9DF90&gt;},\n",
       "                   random_state=42, scoring=&#x27;accuracy&#x27;, verbose=5)</pre></div></div></div><div class=\"sk-parallel\"><div class=\"sk-parallel-item\"><div class=\"sk-item\"><div class=\"sk-label-container\"><div class=\"sk-label sk-toggleable\"><input class=\"sk-toggleable__control sk-hidden--visually\" id=\"sk-estimator-id-14\" type=\"checkbox\" ><label for=\"sk-estimator-id-14\" class=\"sk-toggleable__label sk-toggleable__label-arrow\">estimator: Pipeline</label><div class=\"sk-toggleable__content\"><pre>Pipeline(steps=[(&#x27;pca&#x27;, PCA()), (&#x27;knn&#x27;, KNeighborsClassifier())])</pre></div></div></div><div class=\"sk-serial\"><div class=\"sk-item\"><div class=\"sk-serial\"><div class=\"sk-item\"><div class=\"sk-estimator sk-toggleable\"><input class=\"sk-toggleable__control sk-hidden--visually\" id=\"sk-estimator-id-15\" type=\"checkbox\" ><label for=\"sk-estimator-id-15\" class=\"sk-toggleable__label sk-toggleable__label-arrow\">PCA</label><div class=\"sk-toggleable__content\"><pre>PCA()</pre></div></div></div><div class=\"sk-item\"><div class=\"sk-estimator sk-toggleable\"><input class=\"sk-toggleable__control sk-hidden--visually\" id=\"sk-estimator-id-16\" type=\"checkbox\" ><label for=\"sk-estimator-id-16\" class=\"sk-toggleable__label sk-toggleable__label-arrow\">KNeighborsClassifier</label><div class=\"sk-toggleable__content\"><pre>KNeighborsClassifier()</pre></div></div></div></div></div></div></div></div></div></div></div></div>"
      ],
      "text/plain": [
       "RandomizedSearchCV(cv=5,\n",
       "                   estimator=Pipeline(steps=[('pca', PCA()),\n",
       "                                             ('knn', KNeighborsClassifier())]),\n",
       "                   n_iter=200, n_jobs=-1,\n",
       "                   param_distributions={'knn__n_neighbors': <scipy.stats._distn_infrastructure.rv_discrete_frozen object at 0x00000228E7F13AC0>,\n",
       "                                        'pca__n_components': <scipy.stats._distn_infrastructure.rv_discrete_frozen object at 0x00000228EBE9DF90>},\n",
       "                   random_state=42, scoring='accuracy', verbose=5)"
      ]
     },
     "execution_count": 28,
     "metadata": {},
     "output_type": "execute_result"
    }
   ],
   "source": [
    "# Copy our code from above\n",
    "\n",
    "knn_pipe = Pipeline([\n",
    "    ('pca', PCA()),\n",
    "    ('knn', KNeighborsClassifier())\n",
    "])\n",
    "\n",
    "# Parameter grid\n",
    "param_grid = {\n",
    "    'pca__n_components': randint(low=10, high=20),  # We try and find a n_components between 10 and 20 \n",
    "                                                    # since 14 represents 97% of the data\n",
    "    'knn__n_neighbors': randint(low=2, high=500)\n",
    "}\n",
    "\n",
    "# Random search using the appropriate values\n",
    "knn_rnd_search = RandomizedSearchCV(\n",
    "    knn_pipe, \n",
    "    param_distributions = param_grid,\n",
    "    n_iter=200,\n",
    "    cv=5,\n",
    "    scoring='accuracy',\n",
    "    n_jobs=-1,\n",
    "    random_state=42,\n",
    "    verbose = 5\n",
    ")\n",
    "\n",
    "# Fit this model\n",
    "knn_rnd_search.fit(X.values, y)"
   ]
  },
  {
   "cell_type": "code",
   "execution_count": 29,
   "id": "1476a5f0",
   "metadata": {},
   "outputs": [
    {
     "name": "stdout",
     "output_type": "stream",
     "text": [
      "Pipeline(steps=[('pca', PCA(n_components=17)),\n",
      "                ('knn', KNeighborsClassifier(n_neighbors=10))])\n",
      "0.827291695248548\n"
     ]
    }
   ],
   "source": [
    "# Very slight improvement...honestly not much better\n",
    "print(knn_rnd_search.best_estimator_)\n",
    "print(knn_rnd_search.best_score_)"
   ]
  },
  {
   "cell_type": "markdown",
   "id": "e3bb41ba",
   "metadata": {},
   "source": [
    "### Trying the same approach with support vector machine\n",
    "\n",
    "Now let's try to combining PCA with support vector machines and see what accuracy we can get...Are the best parameters for this model the same as for the KNN with PCA approach?\n",
    "\n",
    "**Note**: Some combinations of SVC can take a long time to run - I recommend lowering the `n_iter` to around 20 in order to scope out the best/fastest models. Look up the `cv_results_` attribute of the `RandomizedSearchCV` object to get a breakdown of all the combinations the search attempted. **Hint**: Running `pd.DataFrame(search.cv_results_)` will automatically put all the information in a dataframe for easy reading."
   ]
  },
  {
   "cell_type": "code",
   "execution_count": 36,
   "id": "b43be431",
   "metadata": {},
   "outputs": [
    {
     "name": "stdout",
     "output_type": "stream",
     "text": [
      "Fitting 5 folds for each of 20 candidates, totalling 100 fits\n"
     ]
    },
    {
     "data": {
      "text/html": [
       "<style>#sk-container-id-6 {color: black;background-color: white;}#sk-container-id-6 pre{padding: 0;}#sk-container-id-6 div.sk-toggleable {background-color: white;}#sk-container-id-6 label.sk-toggleable__label {cursor: pointer;display: block;width: 100%;margin-bottom: 0;padding: 0.3em;box-sizing: border-box;text-align: center;}#sk-container-id-6 label.sk-toggleable__label-arrow:before {content: \"▸\";float: left;margin-right: 0.25em;color: #696969;}#sk-container-id-6 label.sk-toggleable__label-arrow:hover:before {color: black;}#sk-container-id-6 div.sk-estimator:hover label.sk-toggleable__label-arrow:before {color: black;}#sk-container-id-6 div.sk-toggleable__content {max-height: 0;max-width: 0;overflow: hidden;text-align: left;background-color: #f0f8ff;}#sk-container-id-6 div.sk-toggleable__content pre {margin: 0.2em;color: black;border-radius: 0.25em;background-color: #f0f8ff;}#sk-container-id-6 input.sk-toggleable__control:checked~div.sk-toggleable__content {max-height: 200px;max-width: 100%;overflow: auto;}#sk-container-id-6 input.sk-toggleable__control:checked~label.sk-toggleable__label-arrow:before {content: \"▾\";}#sk-container-id-6 div.sk-estimator input.sk-toggleable__control:checked~label.sk-toggleable__label {background-color: #d4ebff;}#sk-container-id-6 div.sk-label input.sk-toggleable__control:checked~label.sk-toggleable__label {background-color: #d4ebff;}#sk-container-id-6 input.sk-hidden--visually {border: 0;clip: rect(1px 1px 1px 1px);clip: rect(1px, 1px, 1px, 1px);height: 1px;margin: -1px;overflow: hidden;padding: 0;position: absolute;width: 1px;}#sk-container-id-6 div.sk-estimator {font-family: monospace;background-color: #f0f8ff;border: 1px dotted black;border-radius: 0.25em;box-sizing: border-box;margin-bottom: 0.5em;}#sk-container-id-6 div.sk-estimator:hover {background-color: #d4ebff;}#sk-container-id-6 div.sk-parallel-item::after {content: \"\";width: 100%;border-bottom: 1px solid gray;flex-grow: 1;}#sk-container-id-6 div.sk-label:hover label.sk-toggleable__label {background-color: #d4ebff;}#sk-container-id-6 div.sk-serial::before {content: \"\";position: absolute;border-left: 1px solid gray;box-sizing: border-box;top: 0;bottom: 0;left: 50%;z-index: 0;}#sk-container-id-6 div.sk-serial {display: flex;flex-direction: column;align-items: center;background-color: white;padding-right: 0.2em;padding-left: 0.2em;position: relative;}#sk-container-id-6 div.sk-item {position: relative;z-index: 1;}#sk-container-id-6 div.sk-parallel {display: flex;align-items: stretch;justify-content: center;background-color: white;position: relative;}#sk-container-id-6 div.sk-item::before, #sk-container-id-6 div.sk-parallel-item::before {content: \"\";position: absolute;border-left: 1px solid gray;box-sizing: border-box;top: 0;bottom: 0;left: 50%;z-index: -1;}#sk-container-id-6 div.sk-parallel-item {display: flex;flex-direction: column;z-index: 1;position: relative;background-color: white;}#sk-container-id-6 div.sk-parallel-item:first-child::after {align-self: flex-end;width: 50%;}#sk-container-id-6 div.sk-parallel-item:last-child::after {align-self: flex-start;width: 50%;}#sk-container-id-6 div.sk-parallel-item:only-child::after {width: 0;}#sk-container-id-6 div.sk-dashed-wrapped {border: 1px dashed gray;margin: 0 0.4em 0.5em 0.4em;box-sizing: border-box;padding-bottom: 0.4em;background-color: white;}#sk-container-id-6 div.sk-label label {font-family: monospace;font-weight: bold;display: inline-block;line-height: 1.2em;}#sk-container-id-6 div.sk-label-container {text-align: center;}#sk-container-id-6 div.sk-container {/* jupyter's `normalize.less` sets `[hidden] { display: none; }` but bootstrap.min.css set `[hidden] { display: none !important; }` so we also need the `!important` here to be able to override the default hidden behavior on the sphinx rendered scikit-learn.org. See: https://github.com/scikit-learn/scikit-learn/issues/21755 */display: inline-block !important;position: relative;}#sk-container-id-6 div.sk-text-repr-fallback {display: none;}</style><div id=\"sk-container-id-6\" class=\"sk-top-container\"><div class=\"sk-text-repr-fallback\"><pre>RandomizedSearchCV(cv=5,\n",
       "                   estimator=Pipeline(steps=[(&#x27;pca&#x27;, PCA()), (&#x27;svr&#x27;, SVC())]),\n",
       "                   n_iter=20, n_jobs=-1,\n",
       "                   param_distributions={&#x27;pca__n_components&#x27;: [10, 11, 12, 13,\n",
       "                                                              14, 15, 16, 17,\n",
       "                                                              18, 19, 20],\n",
       "                                        &#x27;svr__C&#x27;: [0.001, 0.01, 0.1, 1, 10, 100,\n",
       "                                                   1000, 10000],\n",
       "                                        &#x27;svr__kernel&#x27;: [&#x27;linear&#x27;, &#x27;rbf&#x27;,\n",
       "                                                        &#x27;sigmoid&#x27;]},\n",
       "                   random_state=42, scoring=&#x27;accuracy&#x27;, verbose=5)</pre><b>In a Jupyter environment, please rerun this cell to show the HTML representation or trust the notebook. <br />On GitHub, the HTML representation is unable to render, please try loading this page with nbviewer.org.</b></div><div class=\"sk-container\" hidden><div class=\"sk-item sk-dashed-wrapped\"><div class=\"sk-label-container\"><div class=\"sk-label sk-toggleable\"><input class=\"sk-toggleable__control sk-hidden--visually\" id=\"sk-estimator-id-17\" type=\"checkbox\" ><label for=\"sk-estimator-id-17\" class=\"sk-toggleable__label sk-toggleable__label-arrow\">RandomizedSearchCV</label><div class=\"sk-toggleable__content\"><pre>RandomizedSearchCV(cv=5,\n",
       "                   estimator=Pipeline(steps=[(&#x27;pca&#x27;, PCA()), (&#x27;svr&#x27;, SVC())]),\n",
       "                   n_iter=20, n_jobs=-1,\n",
       "                   param_distributions={&#x27;pca__n_components&#x27;: [10, 11, 12, 13,\n",
       "                                                              14, 15, 16, 17,\n",
       "                                                              18, 19, 20],\n",
       "                                        &#x27;svr__C&#x27;: [0.001, 0.01, 0.1, 1, 10, 100,\n",
       "                                                   1000, 10000],\n",
       "                                        &#x27;svr__kernel&#x27;: [&#x27;linear&#x27;, &#x27;rbf&#x27;,\n",
       "                                                        &#x27;sigmoid&#x27;]},\n",
       "                   random_state=42, scoring=&#x27;accuracy&#x27;, verbose=5)</pre></div></div></div><div class=\"sk-parallel\"><div class=\"sk-parallel-item\"><div class=\"sk-item\"><div class=\"sk-label-container\"><div class=\"sk-label sk-toggleable\"><input class=\"sk-toggleable__control sk-hidden--visually\" id=\"sk-estimator-id-18\" type=\"checkbox\" ><label for=\"sk-estimator-id-18\" class=\"sk-toggleable__label sk-toggleable__label-arrow\">estimator: Pipeline</label><div class=\"sk-toggleable__content\"><pre>Pipeline(steps=[(&#x27;pca&#x27;, PCA()), (&#x27;svr&#x27;, SVC())])</pre></div></div></div><div class=\"sk-serial\"><div class=\"sk-item\"><div class=\"sk-serial\"><div class=\"sk-item\"><div class=\"sk-estimator sk-toggleable\"><input class=\"sk-toggleable__control sk-hidden--visually\" id=\"sk-estimator-id-19\" type=\"checkbox\" ><label for=\"sk-estimator-id-19\" class=\"sk-toggleable__label sk-toggleable__label-arrow\">PCA</label><div class=\"sk-toggleable__content\"><pre>PCA()</pre></div></div></div><div class=\"sk-item\"><div class=\"sk-estimator sk-toggleable\"><input class=\"sk-toggleable__control sk-hidden--visually\" id=\"sk-estimator-id-20\" type=\"checkbox\" ><label for=\"sk-estimator-id-20\" class=\"sk-toggleable__label sk-toggleable__label-arrow\">SVC</label><div class=\"sk-toggleable__content\"><pre>SVC()</pre></div></div></div></div></div></div></div></div></div></div></div></div>"
      ],
      "text/plain": [
       "RandomizedSearchCV(cv=5,\n",
       "                   estimator=Pipeline(steps=[('pca', PCA()), ('svr', SVC())]),\n",
       "                   n_iter=20, n_jobs=-1,\n",
       "                   param_distributions={'pca__n_components': [10, 11, 12, 13,\n",
       "                                                              14, 15, 16, 17,\n",
       "                                                              18, 19, 20],\n",
       "                                        'svr__C': [0.001, 0.01, 0.1, 1, 10, 100,\n",
       "                                                   1000, 10000],\n",
       "                                        'svr__kernel': ['linear', 'rbf',\n",
       "                                                        'sigmoid']},\n",
       "                   random_state=42, scoring='accuracy', verbose=5)"
      ]
     },
     "execution_count": 36,
     "metadata": {},
     "output_type": "execute_result"
    }
   ],
   "source": [
    "from sklearn.svm import SVC\n",
    "\n",
    "# Create pipeline\n",
    "svr_pipe = Pipeline([\n",
    "    ('pca', PCA()),\n",
    "    ('svr', SVC()) # Remember to use SVC, not SVR - this is a classification problem!\n",
    "])\n",
    "\n",
    "# Set up parameter grid\n",
    "param_grid = {\n",
    "    'pca__n_components': [i for i in range(10,21)],\n",
    "    'svr__kernel': [\"linear\", \"rbf\", \"sigmoid\"],    \n",
    "    'svr__C': [10**i for i in range(-3, 5)] # this generates the following list: 0.001, 0.01, 0.1, ... 1000, 10000\n",
    "}\n",
    "\n",
    "# Set up the GridSearch with the SVR_pipe\n",
    "pca_searcher = RandomizedSearchCV(\n",
    "    svr_pipe,\n",
    "    param_distributions = param_grid, \n",
    "    n_iter = 20,\n",
    "    cv=5,\n",
    "    scoring='accuracy',\n",
    "    verbose = 5,\n",
    "    n_jobs = -1,\n",
    "    random_state = 42\n",
    ")\n",
    "\n",
    "pca_searcher.fit(X, y)"
   ]
  },
  {
   "cell_type": "code",
   "execution_count": 37,
   "id": "d469e97b",
   "metadata": {},
   "outputs": [
    {
     "name": "stdout",
     "output_type": "stream",
     "text": [
      "Pipeline(steps=[('pca', PCA(n_components=20)),\n",
      "                ('svr', SVC(C=1, kernel='linear'))])\n",
      "0.9249788494077833\n"
     ]
    }
   ],
   "source": [
    "# Much better - 92% accuracy!\n",
    "print(pca_searcher.best_estimator_)\n",
    "print(pca_searcher.best_score_)"
   ]
  },
  {
   "cell_type": "code",
   "execution_count": 38,
   "id": "b7d40c76",
   "metadata": {},
   "outputs": [
    {
     "name": "stdout",
     "output_type": "stream",
     "text": [
      "Fitting 5 folds for each of 20 candidates, totalling 100 fits\n"
     ]
    },
    {
     "data": {
      "text/html": [
       "<style>#sk-container-id-7 {color: black;background-color: white;}#sk-container-id-7 pre{padding: 0;}#sk-container-id-7 div.sk-toggleable {background-color: white;}#sk-container-id-7 label.sk-toggleable__label {cursor: pointer;display: block;width: 100%;margin-bottom: 0;padding: 0.3em;box-sizing: border-box;text-align: center;}#sk-container-id-7 label.sk-toggleable__label-arrow:before {content: \"▸\";float: left;margin-right: 0.25em;color: #696969;}#sk-container-id-7 label.sk-toggleable__label-arrow:hover:before {color: black;}#sk-container-id-7 div.sk-estimator:hover label.sk-toggleable__label-arrow:before {color: black;}#sk-container-id-7 div.sk-toggleable__content {max-height: 0;max-width: 0;overflow: hidden;text-align: left;background-color: #f0f8ff;}#sk-container-id-7 div.sk-toggleable__content pre {margin: 0.2em;color: black;border-radius: 0.25em;background-color: #f0f8ff;}#sk-container-id-7 input.sk-toggleable__control:checked~div.sk-toggleable__content {max-height: 200px;max-width: 100%;overflow: auto;}#sk-container-id-7 input.sk-toggleable__control:checked~label.sk-toggleable__label-arrow:before {content: \"▾\";}#sk-container-id-7 div.sk-estimator input.sk-toggleable__control:checked~label.sk-toggleable__label {background-color: #d4ebff;}#sk-container-id-7 div.sk-label input.sk-toggleable__control:checked~label.sk-toggleable__label {background-color: #d4ebff;}#sk-container-id-7 input.sk-hidden--visually {border: 0;clip: rect(1px 1px 1px 1px);clip: rect(1px, 1px, 1px, 1px);height: 1px;margin: -1px;overflow: hidden;padding: 0;position: absolute;width: 1px;}#sk-container-id-7 div.sk-estimator {font-family: monospace;background-color: #f0f8ff;border: 1px dotted black;border-radius: 0.25em;box-sizing: border-box;margin-bottom: 0.5em;}#sk-container-id-7 div.sk-estimator:hover {background-color: #d4ebff;}#sk-container-id-7 div.sk-parallel-item::after {content: \"\";width: 100%;border-bottom: 1px solid gray;flex-grow: 1;}#sk-container-id-7 div.sk-label:hover label.sk-toggleable__label {background-color: #d4ebff;}#sk-container-id-7 div.sk-serial::before {content: \"\";position: absolute;border-left: 1px solid gray;box-sizing: border-box;top: 0;bottom: 0;left: 50%;z-index: 0;}#sk-container-id-7 div.sk-serial {display: flex;flex-direction: column;align-items: center;background-color: white;padding-right: 0.2em;padding-left: 0.2em;position: relative;}#sk-container-id-7 div.sk-item {position: relative;z-index: 1;}#sk-container-id-7 div.sk-parallel {display: flex;align-items: stretch;justify-content: center;background-color: white;position: relative;}#sk-container-id-7 div.sk-item::before, #sk-container-id-7 div.sk-parallel-item::before {content: \"\";position: absolute;border-left: 1px solid gray;box-sizing: border-box;top: 0;bottom: 0;left: 50%;z-index: -1;}#sk-container-id-7 div.sk-parallel-item {display: flex;flex-direction: column;z-index: 1;position: relative;background-color: white;}#sk-container-id-7 div.sk-parallel-item:first-child::after {align-self: flex-end;width: 50%;}#sk-container-id-7 div.sk-parallel-item:last-child::after {align-self: flex-start;width: 50%;}#sk-container-id-7 div.sk-parallel-item:only-child::after {width: 0;}#sk-container-id-7 div.sk-dashed-wrapped {border: 1px dashed gray;margin: 0 0.4em 0.5em 0.4em;box-sizing: border-box;padding-bottom: 0.4em;background-color: white;}#sk-container-id-7 div.sk-label label {font-family: monospace;font-weight: bold;display: inline-block;line-height: 1.2em;}#sk-container-id-7 div.sk-label-container {text-align: center;}#sk-container-id-7 div.sk-container {/* jupyter's `normalize.less` sets `[hidden] { display: none; }` but bootstrap.min.css set `[hidden] { display: none !important; }` so we also need the `!important` here to be able to override the default hidden behavior on the sphinx rendered scikit-learn.org. See: https://github.com/scikit-learn/scikit-learn/issues/21755 */display: inline-block !important;position: relative;}#sk-container-id-7 div.sk-text-repr-fallback {display: none;}</style><div id=\"sk-container-id-7\" class=\"sk-top-container\"><div class=\"sk-text-repr-fallback\"><pre>RandomizedSearchCV(cv=5, estimator=Pipeline(steps=[(&#x27;svr&#x27;, SVC())]), n_iter=20,\n",
       "                   n_jobs=-1,\n",
       "                   param_distributions={&#x27;svr__C&#x27;: [0.001, 0.01, 0.1, 1, 10, 100,\n",
       "                                                   1000, 10000],\n",
       "                                        &#x27;svr__kernel&#x27;: [&#x27;linear&#x27;, &#x27;rbf&#x27;,\n",
       "                                                        &#x27;sigmoid&#x27;]},\n",
       "                   random_state=42, scoring=&#x27;accuracy&#x27;, verbose=5)</pre><b>In a Jupyter environment, please rerun this cell to show the HTML representation or trust the notebook. <br />On GitHub, the HTML representation is unable to render, please try loading this page with nbviewer.org.</b></div><div class=\"sk-container\" hidden><div class=\"sk-item sk-dashed-wrapped\"><div class=\"sk-label-container\"><div class=\"sk-label sk-toggleable\"><input class=\"sk-toggleable__control sk-hidden--visually\" id=\"sk-estimator-id-21\" type=\"checkbox\" ><label for=\"sk-estimator-id-21\" class=\"sk-toggleable__label sk-toggleable__label-arrow\">RandomizedSearchCV</label><div class=\"sk-toggleable__content\"><pre>RandomizedSearchCV(cv=5, estimator=Pipeline(steps=[(&#x27;svr&#x27;, SVC())]), n_iter=20,\n",
       "                   n_jobs=-1,\n",
       "                   param_distributions={&#x27;svr__C&#x27;: [0.001, 0.01, 0.1, 1, 10, 100,\n",
       "                                                   1000, 10000],\n",
       "                                        &#x27;svr__kernel&#x27;: [&#x27;linear&#x27;, &#x27;rbf&#x27;,\n",
       "                                                        &#x27;sigmoid&#x27;]},\n",
       "                   random_state=42, scoring=&#x27;accuracy&#x27;, verbose=5)</pre></div></div></div><div class=\"sk-parallel\"><div class=\"sk-parallel-item\"><div class=\"sk-item\"><div class=\"sk-label-container\"><div class=\"sk-label sk-toggleable\"><input class=\"sk-toggleable__control sk-hidden--visually\" id=\"sk-estimator-id-22\" type=\"checkbox\" ><label for=\"sk-estimator-id-22\" class=\"sk-toggleable__label sk-toggleable__label-arrow\">estimator: Pipeline</label><div class=\"sk-toggleable__content\"><pre>Pipeline(steps=[(&#x27;svr&#x27;, SVC())])</pre></div></div></div><div class=\"sk-serial\"><div class=\"sk-item\"><div class=\"sk-serial\"><div class=\"sk-item\"><div class=\"sk-estimator sk-toggleable\"><input class=\"sk-toggleable__control sk-hidden--visually\" id=\"sk-estimator-id-23\" type=\"checkbox\" ><label for=\"sk-estimator-id-23\" class=\"sk-toggleable__label sk-toggleable__label-arrow\">SVC</label><div class=\"sk-toggleable__content\"><pre>SVC()</pre></div></div></div></div></div></div></div></div></div></div></div></div>"
      ],
      "text/plain": [
       "RandomizedSearchCV(cv=5, estimator=Pipeline(steps=[('svr', SVC())]), n_iter=20,\n",
       "                   n_jobs=-1,\n",
       "                   param_distributions={'svr__C': [0.001, 0.01, 0.1, 1, 10, 100,\n",
       "                                                   1000, 10000],\n",
       "                                        'svr__kernel': ['linear', 'rbf',\n",
       "                                                        'sigmoid']},\n",
       "                   random_state=42, scoring='accuracy', verbose=5)"
      ]
     },
     "execution_count": 38,
     "metadata": {},
     "output_type": "execute_result"
    }
   ],
   "source": [
    "# Create pipeline\n",
    "svr_pipe = Pipeline([\n",
    "    ('svr', SVC()) # Remember to use SVC, not SVR - this is a classification problem!\n",
    "])\n",
    "\n",
    "# Set up parameter grid\n",
    "param_grid = {\n",
    "    'svr__kernel': [\"linear\", \"rbf\", \"sigmoid\"],    \n",
    "    'svr__C': [10**i for i in range(-3, 5)] # this generates the following list: 0.001, 0.01, 0.1, ... 1000, 10000\n",
    "}\n",
    "\n",
    "# Set up the GridSearch with the SVR_pipe\n",
    "nonpca_searcher = RandomizedSearchCV(\n",
    "    svr_pipe,\n",
    "    param_distributions = param_grid, \n",
    "    n_iter = 20,\n",
    "    cv=5,\n",
    "    scoring='accuracy',\n",
    "    verbose = 5,\n",
    "    n_jobs = -1,\n",
    "    random_state = 42\n",
    ")\n",
    "\n",
    "nonpca_searcher.fit(X, y)"
   ]
  },
  {
   "cell_type": "code",
   "execution_count": 39,
   "id": "65096dd9",
   "metadata": {},
   "outputs": [
    {
     "name": "stdout",
     "output_type": "stream",
     "text": [
      "Pipeline(steps=[('svr', SVC(C=1000, kernel='linear'))])\n",
      "0.9266691818722276\n"
     ]
    }
   ],
   "source": [
    "# % accuracy without PCA\n",
    "print(nonpca_searcher.best_estimator_)\n",
    "print(nonpca_searcher.best_score_)"
   ]
  },
  {
   "cell_type": "code",
   "execution_count": null,
   "id": "89562a34",
   "metadata": {},
   "outputs": [],
   "source": []
  }
 ],
 "metadata": {
  "kernelspec": {
   "display_name": "Python 3 (ipykernel)",
   "language": "python",
   "name": "python3"
  },
  "language_info": {
   "codemirror_mode": {
    "name": "ipython",
    "version": 3
   },
   "file_extension": ".py",
   "mimetype": "text/x-python",
   "name": "python",
   "nbconvert_exporter": "python",
   "pygments_lexer": "ipython3",
   "version": "3.8.8"
  }
 },
 "nbformat": 4,
 "nbformat_minor": 5
}
