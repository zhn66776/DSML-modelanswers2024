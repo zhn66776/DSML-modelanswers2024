{
 "cells": [
  {
   "cell_type": "markdown",
   "id": "b9c0b94b",
   "metadata": {},
   "source": [
    "## Practice Questions\n",
    "\n",
    "This notebook contains practise questions for the assess coursework on the 19th of March. I will upload some model answers in a later lecture. If you can answer all of these questions, then you shouldn't have too much trouble in the coursework.\n",
    "\n",
    "Please use the ‘litho_log’ data available in the data folder of this repository to complete these exercises.\n",
    "\n",
    "### Exercise 1 (Approx. 15 mins)\n",
    "\n",
    "You have been given some data that contains a large number of observations of downhole logs and the name of the lithologies associated with the log response.\n",
    " - 'DEPTH_WMSF': the depth of the measurement below seafloor \n",
    " - 'HCGR': Total gamma ray counts \n",
    " - 'HFK': Potassium counts \n",
    " - 'HTHO': Thorium counts \n",
    " - 'HURA': Uranium counts \n",
    " - 'IDPH': Deep Phasor Dual Induction–Spherically Focused Resistivity \n",
    " - 'IMPH': Medium Phasor Dual Induction–Spherically Focused Resistivity \n",
    " - 'SFLU': Shallow Phasor Dual Induction–Spherically Focused Resistivity \n",
    " - 'lithology': our target value, a string representing the name of the lithology\n",
    " \n",
    "Using a Markdown cell, describe the steps that you would take to clean this data and prepare it for machine learning analysis."
   ]
  },
  {
   "cell_type": "markdown",
   "id": "8b765047",
   "metadata": {},
   "source": []
  },
  {
   "cell_type": "markdown",
   "id": "f935aa68",
   "metadata": {},
   "source": [
    "### Write your answer here (in this Markdown cell)\n",
    "\n",
    "Your answer here."
   ]
  },
  {
   "cell_type": "markdown",
   "id": "376257ae",
   "metadata": {},
   "source": [
    "### Exercise 2 (25 minutes)\n",
    "\n",
    "Load the data set and drop any duplicates you find.\n",
    "\n",
    "Then answer the following questions:\n",
    "\n",
    " - What is the distribution of the lithologies in this dataset?\n",
    " - What is the average depth of the interbedded clay and mud?\n",
    " - Among the samples found at or below 400m (below seafloor), what are the characteristics of the samples with the five highest Uranium counts?"
   ]
  },
  {
   "cell_type": "code",
   "execution_count": 2,
   "id": "3e764111",
   "metadata": {},
   "outputs": [],
   "source": [
    "import pandas as pd\n",
    "data = pd.read_csv(\"Data/litho_log_data.csv\")"
   ]
  },
  {
   "cell_type": "code",
   "execution_count": 5,
   "id": "7b9eca3d",
   "metadata": {},
   "outputs": [
    {
     "data": {
      "text/html": [
       "<div>\n",
       "<style scoped>\n",
       "    .dataframe tbody tr th:only-of-type {\n",
       "        vertical-align: middle;\n",
       "    }\n",
       "\n",
       "    .dataframe tbody tr th {\n",
       "        vertical-align: top;\n",
       "    }\n",
       "\n",
       "    .dataframe thead th {\n",
       "        text-align: right;\n",
       "    }\n",
       "</style>\n",
       "<table border=\"1\" class=\"dataframe\">\n",
       "  <thead>\n",
       "    <tr style=\"text-align: right;\">\n",
       "      <th></th>\n",
       "      <th>DEPTH_WMSF</th>\n",
       "      <th>HCGR</th>\n",
       "      <th>HFK</th>\n",
       "      <th>HTHO</th>\n",
       "      <th>HURA</th>\n",
       "      <th>IDPH</th>\n",
       "      <th>IMPH</th>\n",
       "      <th>SFLU</th>\n",
       "      <th>lithology</th>\n",
       "    </tr>\n",
       "  </thead>\n",
       "  <tbody>\n",
       "    <tr>\n",
       "      <th>13010</th>\n",
       "      <td>450.1252</td>\n",
       "      <td>41.8986</td>\n",
       "      <td>1.2812</td>\n",
       "      <td>5.9343</td>\n",
       "      <td>2.3948</td>\n",
       "      <td>1.1804</td>\n",
       "      <td>1.0665</td>\n",
       "      <td>0.5415</td>\n",
       "      <td>Marl</td>\n",
       "    </tr>\n",
       "    <tr>\n",
       "      <th>13011</th>\n",
       "      <td>45.2024</td>\n",
       "      <td>8.5972</td>\n",
       "      <td>0.1975</td>\n",
       "      <td>1.5990</td>\n",
       "      <td>0.2809</td>\n",
       "      <td>1950.0000</td>\n",
       "      <td>1950.0000</td>\n",
       "      <td>9700.0000</td>\n",
       "      <td>Interbedded clay and mud</td>\n",
       "    </tr>\n",
       "    <tr>\n",
       "      <th>13012</th>\n",
       "      <td>41.0448</td>\n",
       "      <td>8.3542</td>\n",
       "      <td>0.1641</td>\n",
       "      <td>1.7166</td>\n",
       "      <td>0.3087</td>\n",
       "      <td>2.5601</td>\n",
       "      <td>1950.0000</td>\n",
       "      <td>1.1648</td>\n",
       "      <td>Interbedded clay and mud</td>\n",
       "    </tr>\n",
       "    <tr>\n",
       "      <th>13013</th>\n",
       "      <td>378.3448</td>\n",
       "      <td>53.8906</td>\n",
       "      <td>1.2991</td>\n",
       "      <td>9.6742</td>\n",
       "      <td>2.5816</td>\n",
       "      <td>1.4162</td>\n",
       "      <td>1.2469</td>\n",
       "      <td>0.8535</td>\n",
       "      <td>Sandy Mud</td>\n",
       "    </tr>\n",
       "    <tr>\n",
       "      <th>13014</th>\n",
       "      <td>39.6732</td>\n",
       "      <td>10.9713</td>\n",
       "      <td>0.1958</td>\n",
       "      <td>2.3692</td>\n",
       "      <td>0.3295</td>\n",
       "      <td>2.5601</td>\n",
       "      <td>1950.0000</td>\n",
       "      <td>1.1648</td>\n",
       "      <td>Interbedded clay and mud</td>\n",
       "    </tr>\n",
       "  </tbody>\n",
       "</table>\n",
       "</div>"
      ],
      "text/plain": [
       "       DEPTH_WMSF     HCGR     HFK    HTHO    HURA       IDPH       IMPH  \\\n",
       "13010    450.1252  41.8986  1.2812  5.9343  2.3948     1.1804     1.0665   \n",
       "13011     45.2024   8.5972  0.1975  1.5990  0.2809  1950.0000  1950.0000   \n",
       "13012     41.0448   8.3542  0.1641  1.7166  0.3087     2.5601  1950.0000   \n",
       "13013    378.3448  53.8906  1.2991  9.6742  2.5816     1.4162     1.2469   \n",
       "13014     39.6732  10.9713  0.1958  2.3692  0.3295     2.5601  1950.0000   \n",
       "\n",
       "            SFLU                 lithology  \n",
       "13010     0.5415                      Marl  \n",
       "13011  9700.0000  Interbedded clay and mud  \n",
       "13012     1.1648  Interbedded clay and mud  \n",
       "13013     0.8535                 Sandy Mud  \n",
       "13014     1.1648  Interbedded clay and mud  "
      ]
     },
     "execution_count": 5,
     "metadata": {},
     "output_type": "execute_result"
    }
   ],
   "source": [
    "data.tail()"
   ]
  },
  {
   "cell_type": "markdown",
   "id": "4483fc99",
   "metadata": {},
   "source": [
    "### Exercise 3.1 (10 minutes)\n",
    "\n",
    "Using the steps you outlined in Exercise 1, split this dataset into a training set and a testing set (with reasonable names). "
   ]
  },
  {
   "cell_type": "code",
   "execution_count": null,
   "id": "6f4b33b9",
   "metadata": {},
   "outputs": [],
   "source": []
  },
  {
   "cell_type": "markdown",
   "id": "2c667819",
   "metadata": {},
   "source": [
    "### Exercise 3.2 (20 minutes)\n",
    "\n",
    "Examine the training set. Are there any missing or unusual values in any of the columns? What are these values and in which columns can they be found? Use a Markdown cell to describe your findings."
   ]
  },
  {
   "cell_type": "code",
   "execution_count": null,
   "id": "c67cd44a",
   "metadata": {},
   "outputs": [],
   "source": []
  },
  {
   "cell_type": "markdown",
   "id": "34fcdd4d",
   "metadata": {},
   "source": [
    "## Exercise 3.3 (10 minutes)\n",
    "\n",
    "Replace any unusual values with `np.nan`. "
   ]
  },
  {
   "cell_type": "code",
   "execution_count": null,
   "id": "4a3a2299",
   "metadata": {},
   "outputs": [],
   "source": []
  },
  {
   "cell_type": "markdown",
   "id": "64b7f304",
   "metadata": {},
   "source": [
    "## Exercise 4 (30 mins)\n",
    "\n",
    "Create a pipeline with an `Imputer`, a `Scaler`, and a `DecisionTreeClassifier`. Set the `random_state` of the `DecisionTreeClassifier` to 42.\n",
    "\n",
    "Create and run a RandomizedSearchCV on three hyperparameters of your choice using `accuracy` as the metric of choice (use `n_iter = 20`). Explain what varying each of your selected hyperparameters will do to your model.\n",
    "\n",
    "Print out the accuracy and parameters of your best model."
   ]
  },
  {
   "cell_type": "code",
   "execution_count": null,
   "id": "74b9e98c",
   "metadata": {},
   "outputs": [],
   "source": []
  },
  {
   "cell_type": "markdown",
   "id": "803c55f2",
   "metadata": {},
   "source": [
    "## Exercise 5 (10 mins)\n",
    "\n",
    "Explain why accuracy may not be the best metric for assessing the performance of a classifier model.\n",
    "\n",
    "Describe three other classification metrics and the scenarios in which they would be useful."
   ]
  },
  {
   "cell_type": "code",
   "execution_count": null,
   "id": "6e8dbea1",
   "metadata": {},
   "outputs": [],
   "source": []
  }
 ],
 "metadata": {
  "kernelspec": {
   "display_name": "Python 3 (ipykernel)",
   "language": "python",
   "name": "python3"
  },
  "language_info": {
   "codemirror_mode": {
    "name": "ipython",
    "version": 3
   },
   "file_extension": ".py",
   "mimetype": "text/x-python",
   "name": "python",
   "nbconvert_exporter": "python",
   "pygments_lexer": "ipython3",
   "version": "3.8.8"
  }
 },
 "nbformat": 4,
 "nbformat_minor": 5
}
